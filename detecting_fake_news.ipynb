{
  "cells": [
    {
      "cell_type": "markdown",
      "metadata": {
        "id": "view-in-github",
        "colab_type": "text"
      },
      "source": [
        "<a href=\"https://colab.research.google.com/github/Mosle963/AI_Projects/blob/main/detecting_fake_news.ipynb\" target=\"_parent\"><img src=\"https://colab.research.google.com/assets/colab-badge.svg\" alt=\"Open In Colab\"/></a>"
      ]
    },
    {
      "cell_type": "code",
      "execution_count": null,
      "metadata": {
        "colab": {
          "base_uri": "https://localhost:8080/"
        },
        "id": "GN7QqSUGhYOX",
        "outputId": "af3a9f2c-dd38-4f9f-ee78-9646582a6bab"
      },
      "outputs": [
        {
          "output_type": "stream",
          "name": "stdout",
          "text": [
            "Mounted at /content/drive\n"
          ]
        }
      ],
      "source": [
        "from google.colab import drive\n",
        "drive.mount('/content/drive')"
      ]
    },
    {
      "cell_type": "code",
      "execution_count": null,
      "metadata": {
        "id": "O_cR_H3shqbZ"
      },
      "outputs": [],
      "source": [
        "import numpy as np # linear algebra\n",
        "import pandas as pd # data processing, CSV file I/O (e.g. pd.read_csv)\n",
        "df = pd.read_csv('/content/drive/MyDrive/PR2/true-fake-news-processed.csv')"
      ]
    },
    {
      "cell_type": "code",
      "execution_count": null,
      "metadata": {
        "colab": {
          "base_uri": "https://localhost:8080/",
          "height": 226
        },
        "id": "y0XHwpupokUz",
        "outputId": "b3ed4af6-a186-4337-d170-2800454fe4f8"
      },
      "outputs": [
        {
          "output_type": "execute_result",
          "data": {
            "text/plain": [
              "                                                text  label\n",
              "0  donald trump ha white house republican control...      0\n",
              "1  sick tired hearing donald trump whine fake new...      0\n",
              "2  secret gop brass le thrilled donald trump pres...      0\n",
              "3  glenn beck man described forbes someone manage...      0\n",
              "4  former fbi agent navy seal jonathan gilliam sa...      0"
            ],
            "text/html": [
              "\n",
              "  <div id=\"df-8d0522e5-6a20-45c4-b31a-78453c6f778f\" class=\"colab-df-container\">\n",
              "    <div>\n",
              "<style scoped>\n",
              "    .dataframe tbody tr th:only-of-type {\n",
              "        vertical-align: middle;\n",
              "    }\n",
              "\n",
              "    .dataframe tbody tr th {\n",
              "        vertical-align: top;\n",
              "    }\n",
              "\n",
              "    .dataframe thead th {\n",
              "        text-align: right;\n",
              "    }\n",
              "</style>\n",
              "<table border=\"1\" class=\"dataframe\">\n",
              "  <thead>\n",
              "    <tr style=\"text-align: right;\">\n",
              "      <th></th>\n",
              "      <th>text</th>\n",
              "      <th>label</th>\n",
              "    </tr>\n",
              "  </thead>\n",
              "  <tbody>\n",
              "    <tr>\n",
              "      <th>0</th>\n",
              "      <td>donald trump ha white house republican control...</td>\n",
              "      <td>0</td>\n",
              "    </tr>\n",
              "    <tr>\n",
              "      <th>1</th>\n",
              "      <td>sick tired hearing donald trump whine fake new...</td>\n",
              "      <td>0</td>\n",
              "    </tr>\n",
              "    <tr>\n",
              "      <th>2</th>\n",
              "      <td>secret gop brass le thrilled donald trump pres...</td>\n",
              "      <td>0</td>\n",
              "    </tr>\n",
              "    <tr>\n",
              "      <th>3</th>\n",
              "      <td>glenn beck man described forbes someone manage...</td>\n",
              "      <td>0</td>\n",
              "    </tr>\n",
              "    <tr>\n",
              "      <th>4</th>\n",
              "      <td>former fbi agent navy seal jonathan gilliam sa...</td>\n",
              "      <td>0</td>\n",
              "    </tr>\n",
              "  </tbody>\n",
              "</table>\n",
              "</div>\n",
              "    <div class=\"colab-df-buttons\">\n",
              "\n",
              "  <div class=\"colab-df-container\">\n",
              "    <button class=\"colab-df-convert\" onclick=\"convertToInteractive('df-8d0522e5-6a20-45c4-b31a-78453c6f778f')\"\n",
              "            title=\"Convert this dataframe to an interactive table.\"\n",
              "            style=\"display:none;\">\n",
              "\n",
              "  <svg xmlns=\"http://www.w3.org/2000/svg\" height=\"24px\" viewBox=\"0 -960 960 960\">\n",
              "    <path d=\"M120-120v-720h720v720H120Zm60-500h600v-160H180v160Zm220 220h160v-160H400v160Zm0 220h160v-160H400v160ZM180-400h160v-160H180v160Zm440 0h160v-160H620v160ZM180-180h160v-160H180v160Zm440 0h160v-160H620v160Z\"/>\n",
              "  </svg>\n",
              "    </button>\n",
              "\n",
              "  <style>\n",
              "    .colab-df-container {\n",
              "      display:flex;\n",
              "      gap: 12px;\n",
              "    }\n",
              "\n",
              "    .colab-df-convert {\n",
              "      background-color: #E8F0FE;\n",
              "      border: none;\n",
              "      border-radius: 50%;\n",
              "      cursor: pointer;\n",
              "      display: none;\n",
              "      fill: #1967D2;\n",
              "      height: 32px;\n",
              "      padding: 0 0 0 0;\n",
              "      width: 32px;\n",
              "    }\n",
              "\n",
              "    .colab-df-convert:hover {\n",
              "      background-color: #E2EBFA;\n",
              "      box-shadow: 0px 1px 2px rgba(60, 64, 67, 0.3), 0px 1px 3px 1px rgba(60, 64, 67, 0.15);\n",
              "      fill: #174EA6;\n",
              "    }\n",
              "\n",
              "    .colab-df-buttons div {\n",
              "      margin-bottom: 4px;\n",
              "    }\n",
              "\n",
              "    [theme=dark] .colab-df-convert {\n",
              "      background-color: #3B4455;\n",
              "      fill: #D2E3FC;\n",
              "    }\n",
              "\n",
              "    [theme=dark] .colab-df-convert:hover {\n",
              "      background-color: #434B5C;\n",
              "      box-shadow: 0px 1px 3px 1px rgba(0, 0, 0, 0.15);\n",
              "      filter: drop-shadow(0px 1px 2px rgba(0, 0, 0, 0.3));\n",
              "      fill: #FFFFFF;\n",
              "    }\n",
              "  </style>\n",
              "\n",
              "    <script>\n",
              "      const buttonEl =\n",
              "        document.querySelector('#df-8d0522e5-6a20-45c4-b31a-78453c6f778f button.colab-df-convert');\n",
              "      buttonEl.style.display =\n",
              "        google.colab.kernel.accessAllowed ? 'block' : 'none';\n",
              "\n",
              "      async function convertToInteractive(key) {\n",
              "        const element = document.querySelector('#df-8d0522e5-6a20-45c4-b31a-78453c6f778f');\n",
              "        const dataTable =\n",
              "          await google.colab.kernel.invokeFunction('convertToInteractive',\n",
              "                                                    [key], {});\n",
              "        if (!dataTable) return;\n",
              "\n",
              "        const docLinkHtml = 'Like what you see? Visit the ' +\n",
              "          '<a target=\"_blank\" href=https://colab.research.google.com/notebooks/data_table.ipynb>data table notebook</a>'\n",
              "          + ' to learn more about interactive tables.';\n",
              "        element.innerHTML = '';\n",
              "        dataTable['output_type'] = 'display_data';\n",
              "        await google.colab.output.renderOutput(dataTable, element);\n",
              "        const docLink = document.createElement('div');\n",
              "        docLink.innerHTML = docLinkHtml;\n",
              "        element.appendChild(docLink);\n",
              "      }\n",
              "    </script>\n",
              "  </div>\n",
              "\n",
              "\n",
              "<div id=\"df-f5af92ee-ae57-489f-96ce-e72f51ff6c91\">\n",
              "  <button class=\"colab-df-quickchart\" onclick=\"quickchart('df-f5af92ee-ae57-489f-96ce-e72f51ff6c91')\"\n",
              "            title=\"Suggest charts\"\n",
              "            style=\"display:none;\">\n",
              "\n",
              "<svg xmlns=\"http://www.w3.org/2000/svg\" height=\"24px\"viewBox=\"0 0 24 24\"\n",
              "     width=\"24px\">\n",
              "    <g>\n",
              "        <path d=\"M19 3H5c-1.1 0-2 .9-2 2v14c0 1.1.9 2 2 2h14c1.1 0 2-.9 2-2V5c0-1.1-.9-2-2-2zM9 17H7v-7h2v7zm4 0h-2V7h2v10zm4 0h-2v-4h2v4z\"/>\n",
              "    </g>\n",
              "</svg>\n",
              "  </button>\n",
              "\n",
              "<style>\n",
              "  .colab-df-quickchart {\n",
              "      --bg-color: #E8F0FE;\n",
              "      --fill-color: #1967D2;\n",
              "      --hover-bg-color: #E2EBFA;\n",
              "      --hover-fill-color: #174EA6;\n",
              "      --disabled-fill-color: #AAA;\n",
              "      --disabled-bg-color: #DDD;\n",
              "  }\n",
              "\n",
              "  [theme=dark] .colab-df-quickchart {\n",
              "      --bg-color: #3B4455;\n",
              "      --fill-color: #D2E3FC;\n",
              "      --hover-bg-color: #434B5C;\n",
              "      --hover-fill-color: #FFFFFF;\n",
              "      --disabled-bg-color: #3B4455;\n",
              "      --disabled-fill-color: #666;\n",
              "  }\n",
              "\n",
              "  .colab-df-quickchart {\n",
              "    background-color: var(--bg-color);\n",
              "    border: none;\n",
              "    border-radius: 50%;\n",
              "    cursor: pointer;\n",
              "    display: none;\n",
              "    fill: var(--fill-color);\n",
              "    height: 32px;\n",
              "    padding: 0;\n",
              "    width: 32px;\n",
              "  }\n",
              "\n",
              "  .colab-df-quickchart:hover {\n",
              "    background-color: var(--hover-bg-color);\n",
              "    box-shadow: 0 1px 2px rgba(60, 64, 67, 0.3), 0 1px 3px 1px rgba(60, 64, 67, 0.15);\n",
              "    fill: var(--button-hover-fill-color);\n",
              "  }\n",
              "\n",
              "  .colab-df-quickchart-complete:disabled,\n",
              "  .colab-df-quickchart-complete:disabled:hover {\n",
              "    background-color: var(--disabled-bg-color);\n",
              "    fill: var(--disabled-fill-color);\n",
              "    box-shadow: none;\n",
              "  }\n",
              "\n",
              "  .colab-df-spinner {\n",
              "    border: 2px solid var(--fill-color);\n",
              "    border-color: transparent;\n",
              "    border-bottom-color: var(--fill-color);\n",
              "    animation:\n",
              "      spin 1s steps(1) infinite;\n",
              "  }\n",
              "\n",
              "  @keyframes spin {\n",
              "    0% {\n",
              "      border-color: transparent;\n",
              "      border-bottom-color: var(--fill-color);\n",
              "      border-left-color: var(--fill-color);\n",
              "    }\n",
              "    20% {\n",
              "      border-color: transparent;\n",
              "      border-left-color: var(--fill-color);\n",
              "      border-top-color: var(--fill-color);\n",
              "    }\n",
              "    30% {\n",
              "      border-color: transparent;\n",
              "      border-left-color: var(--fill-color);\n",
              "      border-top-color: var(--fill-color);\n",
              "      border-right-color: var(--fill-color);\n",
              "    }\n",
              "    40% {\n",
              "      border-color: transparent;\n",
              "      border-right-color: var(--fill-color);\n",
              "      border-top-color: var(--fill-color);\n",
              "    }\n",
              "    60% {\n",
              "      border-color: transparent;\n",
              "      border-right-color: var(--fill-color);\n",
              "    }\n",
              "    80% {\n",
              "      border-color: transparent;\n",
              "      border-right-color: var(--fill-color);\n",
              "      border-bottom-color: var(--fill-color);\n",
              "    }\n",
              "    90% {\n",
              "      border-color: transparent;\n",
              "      border-bottom-color: var(--fill-color);\n",
              "    }\n",
              "  }\n",
              "</style>\n",
              "\n",
              "  <script>\n",
              "    async function quickchart(key) {\n",
              "      const quickchartButtonEl =\n",
              "        document.querySelector('#' + key + ' button');\n",
              "      quickchartButtonEl.disabled = true;  // To prevent multiple clicks.\n",
              "      quickchartButtonEl.classList.add('colab-df-spinner');\n",
              "      try {\n",
              "        const charts = await google.colab.kernel.invokeFunction(\n",
              "            'suggestCharts', [key], {});\n",
              "      } catch (error) {\n",
              "        console.error('Error during call to suggestCharts:', error);\n",
              "      }\n",
              "      quickchartButtonEl.classList.remove('colab-df-spinner');\n",
              "      quickchartButtonEl.classList.add('colab-df-quickchart-complete');\n",
              "    }\n",
              "    (() => {\n",
              "      let quickchartButtonEl =\n",
              "        document.querySelector('#df-f5af92ee-ae57-489f-96ce-e72f51ff6c91 button');\n",
              "      quickchartButtonEl.style.display =\n",
              "        google.colab.kernel.accessAllowed ? 'block' : 'none';\n",
              "    })();\n",
              "  </script>\n",
              "</div>\n",
              "\n",
              "    </div>\n",
              "  </div>\n"
            ],
            "application/vnd.google.colaboratory.intrinsic+json": {
              "type": "dataframe",
              "variable_name": "df",
              "summary": "{\n  \"name\": \"df\",\n  \"rows\": 34330,\n  \"fields\": [\n    {\n      \"column\": \"text\",\n      \"properties\": {\n        \"dtype\": \"string\",\n        \"num_unique_values\": 34165,\n        \"samples\": [\n          \"washington reuters president donald trump wa simply saying nice thing ally called australia universal healthcare system better system doe think country adopt similar approach white house said friday president wa complimenting foreign leader operation healthcare system white house spokeswoman sarah huckabee sander said news briefing mean anything trump raised eyebrow told australian prime minister malcolm turnbull thursday new york better health care trump spoke shortly led white house rally republican house representative passed legislation overturn much former president barack obama signature healthcare law move away guarantee universal coverage measure opposed democrat must clear senate trump sign law course australian better healthcare everybody doe trump tweeted friday obamacare dead healthcare soon great independent scorekeeper congressional budget office yet analyzed bill estimated earlier version would led million fewer american insurance coverage current law australia government play larger role health system country provides free hospital treatment subsidized medical care resident publicly funded program roughly half australian choose buy private coverage provides greater choice huckabee sander said trump remark mean think united state adopt similar system think belief good healthcare system australia said work australia may work united state version story third paragraph corrects name australian prime minister\",\n          \"stockholm reuters swedish prime minister stefan lofven easily survived parliamentary vote confidence brought friday anti immigration sweden democrat botched outsourcing project may led leak sensitive information parliament member supported motion lofven lost government would resigned year general election two minister resigned potential leak sensitive data result deal ibm sweden took function swedish transport agency last year eight vote confidence tabled parliament none ha successful\",\n          \"watch flashback bill clinton attorney fired one day cnn say word peoplepower preet bharara pic twitter com elupjymk tennessee tengop march even today medium wa called ignoring clinton firing new york time tried prove trump firing somehow mean spirited even went far suggest president trump wa simply taking marching order tv radio talk show host sean hannity fired\"\n        ],\n        \"semantic_type\": \"\",\n        \"description\": \"\"\n      }\n    },\n    {\n      \"column\": \"label\",\n      \"properties\": {\n        \"dtype\": \"number\",\n        \"std\": 0,\n        \"min\": 0,\n        \"max\": 1,\n        \"num_unique_values\": 2,\n        \"samples\": [\n          1,\n          0\n        ],\n        \"semantic_type\": \"\",\n        \"description\": \"\"\n      }\n    }\n  ]\n}"
            }
          },
          "metadata": {},
          "execution_count": 3
        }
      ],
      "source": [
        "df.head()"
      ]
    },
    {
      "cell_type": "code",
      "execution_count": null,
      "metadata": {
        "colab": {
          "base_uri": "https://localhost:8080/"
        },
        "id": "WlTQZmOkol7b",
        "outputId": "b731d9a3-026c-4dd4-9372-cce3759ca32e"
      },
      "outputs": [
        {
          "output_type": "execute_result",
          "data": {
            "text/plain": [
              "(34330, 2)"
            ]
          },
          "metadata": {},
          "execution_count": 4
        }
      ],
      "source": [
        "df.shape"
      ]
    },
    {
      "cell_type": "code",
      "execution_count": null,
      "metadata": {
        "colab": {
          "base_uri": "https://localhost:8080/",
          "height": 226
        },
        "id": "LAqHYv7-onMi",
        "outputId": "797ed112-dd9d-46ae-8f7a-3523ca59b127"
      },
      "outputs": [
        {
          "output_type": "execute_result",
          "data": {
            "text/plain": [
              "                                                    text  label\n",
              "34325  mexico city reuters mexico wa pitched deep unc...      1\n",
              "34326  washington reuters mexican finance minister jo...      1\n",
              "34327  united nation reuters united nation security c...      1\n",
              "34328  washington reuters president donald trump said...      1\n",
              "34329  riyadh reuters oh arab oh muslim slaughtered o...      1"
            ],
            "text/html": [
              "\n",
              "  <div id=\"df-20148273-29d5-4d77-a014-bfd9a06f00ec\" class=\"colab-df-container\">\n",
              "    <div>\n",
              "<style scoped>\n",
              "    .dataframe tbody tr th:only-of-type {\n",
              "        vertical-align: middle;\n",
              "    }\n",
              "\n",
              "    .dataframe tbody tr th {\n",
              "        vertical-align: top;\n",
              "    }\n",
              "\n",
              "    .dataframe thead th {\n",
              "        text-align: right;\n",
              "    }\n",
              "</style>\n",
              "<table border=\"1\" class=\"dataframe\">\n",
              "  <thead>\n",
              "    <tr style=\"text-align: right;\">\n",
              "      <th></th>\n",
              "      <th>text</th>\n",
              "      <th>label</th>\n",
              "    </tr>\n",
              "  </thead>\n",
              "  <tbody>\n",
              "    <tr>\n",
              "      <th>34325</th>\n",
              "      <td>mexico city reuters mexico wa pitched deep unc...</td>\n",
              "      <td>1</td>\n",
              "    </tr>\n",
              "    <tr>\n",
              "      <th>34326</th>\n",
              "      <td>washington reuters mexican finance minister jo...</td>\n",
              "      <td>1</td>\n",
              "    </tr>\n",
              "    <tr>\n",
              "      <th>34327</th>\n",
              "      <td>united nation reuters united nation security c...</td>\n",
              "      <td>1</td>\n",
              "    </tr>\n",
              "    <tr>\n",
              "      <th>34328</th>\n",
              "      <td>washington reuters president donald trump said...</td>\n",
              "      <td>1</td>\n",
              "    </tr>\n",
              "    <tr>\n",
              "      <th>34329</th>\n",
              "      <td>riyadh reuters oh arab oh muslim slaughtered o...</td>\n",
              "      <td>1</td>\n",
              "    </tr>\n",
              "  </tbody>\n",
              "</table>\n",
              "</div>\n",
              "    <div class=\"colab-df-buttons\">\n",
              "\n",
              "  <div class=\"colab-df-container\">\n",
              "    <button class=\"colab-df-convert\" onclick=\"convertToInteractive('df-20148273-29d5-4d77-a014-bfd9a06f00ec')\"\n",
              "            title=\"Convert this dataframe to an interactive table.\"\n",
              "            style=\"display:none;\">\n",
              "\n",
              "  <svg xmlns=\"http://www.w3.org/2000/svg\" height=\"24px\" viewBox=\"0 -960 960 960\">\n",
              "    <path d=\"M120-120v-720h720v720H120Zm60-500h600v-160H180v160Zm220 220h160v-160H400v160Zm0 220h160v-160H400v160ZM180-400h160v-160H180v160Zm440 0h160v-160H620v160ZM180-180h160v-160H180v160Zm440 0h160v-160H620v160Z\"/>\n",
              "  </svg>\n",
              "    </button>\n",
              "\n",
              "  <style>\n",
              "    .colab-df-container {\n",
              "      display:flex;\n",
              "      gap: 12px;\n",
              "    }\n",
              "\n",
              "    .colab-df-convert {\n",
              "      background-color: #E8F0FE;\n",
              "      border: none;\n",
              "      border-radius: 50%;\n",
              "      cursor: pointer;\n",
              "      display: none;\n",
              "      fill: #1967D2;\n",
              "      height: 32px;\n",
              "      padding: 0 0 0 0;\n",
              "      width: 32px;\n",
              "    }\n",
              "\n",
              "    .colab-df-convert:hover {\n",
              "      background-color: #E2EBFA;\n",
              "      box-shadow: 0px 1px 2px rgba(60, 64, 67, 0.3), 0px 1px 3px 1px rgba(60, 64, 67, 0.15);\n",
              "      fill: #174EA6;\n",
              "    }\n",
              "\n",
              "    .colab-df-buttons div {\n",
              "      margin-bottom: 4px;\n",
              "    }\n",
              "\n",
              "    [theme=dark] .colab-df-convert {\n",
              "      background-color: #3B4455;\n",
              "      fill: #D2E3FC;\n",
              "    }\n",
              "\n",
              "    [theme=dark] .colab-df-convert:hover {\n",
              "      background-color: #434B5C;\n",
              "      box-shadow: 0px 1px 3px 1px rgba(0, 0, 0, 0.15);\n",
              "      filter: drop-shadow(0px 1px 2px rgba(0, 0, 0, 0.3));\n",
              "      fill: #FFFFFF;\n",
              "    }\n",
              "  </style>\n",
              "\n",
              "    <script>\n",
              "      const buttonEl =\n",
              "        document.querySelector('#df-20148273-29d5-4d77-a014-bfd9a06f00ec button.colab-df-convert');\n",
              "      buttonEl.style.display =\n",
              "        google.colab.kernel.accessAllowed ? 'block' : 'none';\n",
              "\n",
              "      async function convertToInteractive(key) {\n",
              "        const element = document.querySelector('#df-20148273-29d5-4d77-a014-bfd9a06f00ec');\n",
              "        const dataTable =\n",
              "          await google.colab.kernel.invokeFunction('convertToInteractive',\n",
              "                                                    [key], {});\n",
              "        if (!dataTable) return;\n",
              "\n",
              "        const docLinkHtml = 'Like what you see? Visit the ' +\n",
              "          '<a target=\"_blank\" href=https://colab.research.google.com/notebooks/data_table.ipynb>data table notebook</a>'\n",
              "          + ' to learn more about interactive tables.';\n",
              "        element.innerHTML = '';\n",
              "        dataTable['output_type'] = 'display_data';\n",
              "        await google.colab.output.renderOutput(dataTable, element);\n",
              "        const docLink = document.createElement('div');\n",
              "        docLink.innerHTML = docLinkHtml;\n",
              "        element.appendChild(docLink);\n",
              "      }\n",
              "    </script>\n",
              "  </div>\n",
              "\n",
              "\n",
              "<div id=\"df-ffe96daa-1968-49a8-8df6-02ab9c99e6cd\">\n",
              "  <button class=\"colab-df-quickchart\" onclick=\"quickchart('df-ffe96daa-1968-49a8-8df6-02ab9c99e6cd')\"\n",
              "            title=\"Suggest charts\"\n",
              "            style=\"display:none;\">\n",
              "\n",
              "<svg xmlns=\"http://www.w3.org/2000/svg\" height=\"24px\"viewBox=\"0 0 24 24\"\n",
              "     width=\"24px\">\n",
              "    <g>\n",
              "        <path d=\"M19 3H5c-1.1 0-2 .9-2 2v14c0 1.1.9 2 2 2h14c1.1 0 2-.9 2-2V5c0-1.1-.9-2-2-2zM9 17H7v-7h2v7zm4 0h-2V7h2v10zm4 0h-2v-4h2v4z\"/>\n",
              "    </g>\n",
              "</svg>\n",
              "  </button>\n",
              "\n",
              "<style>\n",
              "  .colab-df-quickchart {\n",
              "      --bg-color: #E8F0FE;\n",
              "      --fill-color: #1967D2;\n",
              "      --hover-bg-color: #E2EBFA;\n",
              "      --hover-fill-color: #174EA6;\n",
              "      --disabled-fill-color: #AAA;\n",
              "      --disabled-bg-color: #DDD;\n",
              "  }\n",
              "\n",
              "  [theme=dark] .colab-df-quickchart {\n",
              "      --bg-color: #3B4455;\n",
              "      --fill-color: #D2E3FC;\n",
              "      --hover-bg-color: #434B5C;\n",
              "      --hover-fill-color: #FFFFFF;\n",
              "      --disabled-bg-color: #3B4455;\n",
              "      --disabled-fill-color: #666;\n",
              "  }\n",
              "\n",
              "  .colab-df-quickchart {\n",
              "    background-color: var(--bg-color);\n",
              "    border: none;\n",
              "    border-radius: 50%;\n",
              "    cursor: pointer;\n",
              "    display: none;\n",
              "    fill: var(--fill-color);\n",
              "    height: 32px;\n",
              "    padding: 0;\n",
              "    width: 32px;\n",
              "  }\n",
              "\n",
              "  .colab-df-quickchart:hover {\n",
              "    background-color: var(--hover-bg-color);\n",
              "    box-shadow: 0 1px 2px rgba(60, 64, 67, 0.3), 0 1px 3px 1px rgba(60, 64, 67, 0.15);\n",
              "    fill: var(--button-hover-fill-color);\n",
              "  }\n",
              "\n",
              "  .colab-df-quickchart-complete:disabled,\n",
              "  .colab-df-quickchart-complete:disabled:hover {\n",
              "    background-color: var(--disabled-bg-color);\n",
              "    fill: var(--disabled-fill-color);\n",
              "    box-shadow: none;\n",
              "  }\n",
              "\n",
              "  .colab-df-spinner {\n",
              "    border: 2px solid var(--fill-color);\n",
              "    border-color: transparent;\n",
              "    border-bottom-color: var(--fill-color);\n",
              "    animation:\n",
              "      spin 1s steps(1) infinite;\n",
              "  }\n",
              "\n",
              "  @keyframes spin {\n",
              "    0% {\n",
              "      border-color: transparent;\n",
              "      border-bottom-color: var(--fill-color);\n",
              "      border-left-color: var(--fill-color);\n",
              "    }\n",
              "    20% {\n",
              "      border-color: transparent;\n",
              "      border-left-color: var(--fill-color);\n",
              "      border-top-color: var(--fill-color);\n",
              "    }\n",
              "    30% {\n",
              "      border-color: transparent;\n",
              "      border-left-color: var(--fill-color);\n",
              "      border-top-color: var(--fill-color);\n",
              "      border-right-color: var(--fill-color);\n",
              "    }\n",
              "    40% {\n",
              "      border-color: transparent;\n",
              "      border-right-color: var(--fill-color);\n",
              "      border-top-color: var(--fill-color);\n",
              "    }\n",
              "    60% {\n",
              "      border-color: transparent;\n",
              "      border-right-color: var(--fill-color);\n",
              "    }\n",
              "    80% {\n",
              "      border-color: transparent;\n",
              "      border-right-color: var(--fill-color);\n",
              "      border-bottom-color: var(--fill-color);\n",
              "    }\n",
              "    90% {\n",
              "      border-color: transparent;\n",
              "      border-bottom-color: var(--fill-color);\n",
              "    }\n",
              "  }\n",
              "</style>\n",
              "\n",
              "  <script>\n",
              "    async function quickchart(key) {\n",
              "      const quickchartButtonEl =\n",
              "        document.querySelector('#' + key + ' button');\n",
              "      quickchartButtonEl.disabled = true;  // To prevent multiple clicks.\n",
              "      quickchartButtonEl.classList.add('colab-df-spinner');\n",
              "      try {\n",
              "        const charts = await google.colab.kernel.invokeFunction(\n",
              "            'suggestCharts', [key], {});\n",
              "      } catch (error) {\n",
              "        console.error('Error during call to suggestCharts:', error);\n",
              "      }\n",
              "      quickchartButtonEl.classList.remove('colab-df-spinner');\n",
              "      quickchartButtonEl.classList.add('colab-df-quickchart-complete');\n",
              "    }\n",
              "    (() => {\n",
              "      let quickchartButtonEl =\n",
              "        document.querySelector('#df-ffe96daa-1968-49a8-8df6-02ab9c99e6cd button');\n",
              "      quickchartButtonEl.style.display =\n",
              "        google.colab.kernel.accessAllowed ? 'block' : 'none';\n",
              "    })();\n",
              "  </script>\n",
              "</div>\n",
              "\n",
              "    </div>\n",
              "  </div>\n"
            ],
            "application/vnd.google.colaboratory.intrinsic+json": {
              "type": "dataframe",
              "summary": "{\n  \"name\": \"df\",\n  \"rows\": 5,\n  \"fields\": [\n    {\n      \"column\": \"text\",\n      \"properties\": {\n        \"dtype\": \"string\",\n        \"num_unique_values\": 5,\n        \"samples\": [\n          \"washington reuters mexican finance minister jose antonio meade said friday mexico peso wa reacting volatility tension nafta talk mexico wanted reach consensus modernize trade pact benefit three member country meade speaking sideline international monetary fund meeting washington said mexico wa benefiting flexible liquid exchange rate peso wa hovering near five month low friday main scenario working scope negotiation agreement consensus benefit three country driving u negotiation taking part good faith meade said\",\n          \"riyadh reuters oh arab oh muslim slaughtered old man cry video posted online aleppo ruin pose uncomfortable question mainly sunni muslim arab state backing rebel fighting president bashar al assad ally iran russia saudi arabia locked regional struggle iran assad capture rebel reflects dangerous tilt middle east balance power toward tehran dismayed boost iranian ambition shi ite crescent influence afghanistan mediterranean riyadh determined reverse tehran gain sooner later countering iran buoyed nuclear deal world power remains central gulf arab policy clear might achieved especially concern multiplying beset low oil price war yemen tie egypt strained riyadh gulf ally questioning much armed help give rebel diplomat say monarchy frustrated president barack obama light touch approach war relying local fighter instead large military deployment missile strike president elect donald trump pose intriguing contrast seen decisive obama trump choice james mattis retired marine general distrustful iran defense secretary oil man rex tillerson secretary state pleased gulf arab energy exporter much remains uncertain least trump admiration russian president vladimir putin assad ally learned election wait action word said former saudi intelligence chief prince turki al faisal senior western diplomat said saudi official curious see trump translates policy campaign criticism iran praise putin saudi foreign minister adel al jubeir said spent time united state sound next administration official said gulf state asking trump associate syria ass whether would pursue u led effort gulf state turkey western nation arm rebel trump ha indicated may abandon rebel focus fighting islamic state gulf arab state want test view said one western official gulf state foreign ministry official described trump businessman make deal gulf humanitarian aid remain sunni arab society accept curb relief mostly sunni country war ha forced million syrian flee killed extent armed support appears question qatar saudi arabia enthusiastic backer rebel say would prefer continue military aid insists remain collective effort proclaiming great faith trump asaad al zoubi saudi based chief negotiator main opposition body high negotiation council said rebel backer met trump adviser explain cause receive answer trump people adviser wanted listen wanted answer said sami alfaraj security adviser gulf cooperation council six gulf arab state told reuters gulf country need regroup strategic pause look pursue objective time ahead syrian case ha closed said would push transitional administration syria something neither assad tehran accepts notion gulf arab leverage future negotiation seems far fetched given determination assad moscow tehran carve territorial gain jubeir told arab league cairo world power failed constrain assad would political solution war find effective way pressure syrian regime reach political solution killing displacement injustice syria go jubeir said drawn trump gulf monarchy feel view fully formed want nothing might cause harm interest alfaraj said expected trump deal favorably gulf state wealth help create job believed suggestion trump gulf state pay safe zone syria wa worth considering want create job better field selling weapon alfaraj said people surplus cash however arab resentment western inaction syria appears deep enduring sheikh khalifa bin salman al khalifa foreign minister bahrain ally riyadh told reuters whole thing syria wa disengagement world power deal matter change political leadership west let hope new commitment syria asked wa realistic back rebel lost major urban stronghold replied think realistic also allow bloodshed people dying go next city aleppo\",\n          \"united nation reuters united nation security council minister meet dec discus north korea nuclear missile program body also meet separately month discus human right abuse north asian country annual meeting ally china ha tried prevent past three year japan u ambassador koro bessho president member council december said several minister confirmed attend dec meeting also said meeting human right north korea could held dec china ha unsuccessfully tried stop three previous human right meeting calling procedural vote minimum nine vote needed win vote china russia united state britain france wield veto year meeting ha backing nine member united state france britain italy japan senegal sweden ukraine uruguay last year united state angered north korea blacklisting leader kim jong un human right abuse landmark n report north korean human right concluded north korean security chief possibly kim face justice overseeing state controlled system nazi style atrocity michael kirby chairman n commission inquiry drew report said time crime team cataloged reminiscent committed nazi world war two strikingly similar told reuters north korea ha repeatedly rejected accusation human right abuse blame sanction dire humanitarian situation pyongyang ha n sanction since ballistic missile nuclear program despite persistent sanction pressure hostile force government concentrate effort improving people livelihood providing better future north korean permanent mission united nation said statement nov\"\n        ],\n        \"semantic_type\": \"\",\n        \"description\": \"\"\n      }\n    },\n    {\n      \"column\": \"label\",\n      \"properties\": {\n        \"dtype\": \"number\",\n        \"std\": 0,\n        \"min\": 1,\n        \"max\": 1,\n        \"num_unique_values\": 1,\n        \"samples\": [\n          1\n        ],\n        \"semantic_type\": \"\",\n        \"description\": \"\"\n      }\n    }\n  ]\n}"
            }
          },
          "metadata": {},
          "execution_count": 5
        }
      ],
      "source": [
        "df.tail()"
      ]
    },
    {
      "cell_type": "code",
      "execution_count": null,
      "metadata": {
        "id": "rI1zl2bwsxCh"
      },
      "outputs": [],
      "source": [
        "import re\n",
        "import nltk\n",
        "from nltk.tokenize import word_tokenize\n",
        "from nltk.corpus import stopwords\n",
        "from nltk.stem import WordNetLemmatizer\n",
        "import numpy as np\n",
        "nltk.data.path.append(\"/content/drive/MyDrive/PR2/nltk_data/\")\n",
        "def process_text(text):\n",
        "    text = re.sub(r'\\s+', ' ', text, flags=re.I) # Remove extra white space from text\n",
        "\n",
        "    text = re.sub(r'\\W', ' ', str(text)) # Remove all the special characters from text\n",
        "\n",
        "    text = re.sub(r'\\s+[a-zA-Z]\\s+', ' ', text) # Remove all single characters from text\n",
        "\n",
        "    text = re.sub(r'[^a-zA-Z\\s]', '', text) # Remove any character that isn't alphabetical\n",
        "\n",
        "    text = text.lower()\n",
        "\n",
        "    words = word_tokenize(text)\n",
        "\n",
        "    lemmatizer = WordNetLemmatizer()\n",
        "    words = [lemmatizer.lemmatize(word) for word in words]\n",
        "\n",
        "    stop_words = set(stopwords.words(\"english\"))\n",
        "    Words = [word for word in words if word not in stop_words]\n",
        "\n",
        "    cleaned_text = ' '.join(Words)\n",
        "\n",
        "    return cleaned_text"
      ]
    },
    {
      "cell_type": "code",
      "execution_count": null,
      "metadata": {
        "id": "SRkzQtjPicEO"
      },
      "outputs": [],
      "source": [
        "from sklearn.feature_extraction.text import TfidfVectorizer\n",
        "import pickle\n",
        "\n",
        "class TfIdf:\n",
        "\n",
        "    def __init__(self,name, max_features=1000,min_df=1,max_df=1000000):\n",
        "        self.max_features = max_features\n",
        "        self.min_df = min_df\n",
        "        self.max_df = max_df\n",
        "        self.name = name\n",
        "        self. vectorizer = TfidfVectorizer(max_features=max_features,min_df=min_df,max_df=max_df)\n",
        "        self.train_vectors = None\n",
        "        self.test_vectors = None\n",
        "\n",
        "    def fit_transform(self,text_data):\n",
        "        tfidf_vectors = self.vectorizer.fit_transform(text_data)\n",
        "        pickle.dump(self.vectorizer, open(f\"/content/drive/MyDrive/PR2/tfidf_{self.name}.pkl\", 'wb'))\n",
        "        return tfidf_vectors.toarray().tolist()\n",
        "\n",
        "    def transform(self,text_data,force_fit=False):\n",
        "        tfidf_vectors = self.vectorizer.transform(text_data)\n",
        "        return tfidf_vectors.toarray().tolist()\n",
        "\n",
        "    def set_train_vectors(self,train_vectors):\n",
        "        self.train_vectors = train_vectors\n",
        "\n",
        "    def set_test_vectors(self,test_vectors):\n",
        "        self.test_vectors = test_vectors\n",
        "\n",
        "    def get_train_vectors(self):\n",
        "        if not self.train_vectors:\n",
        "            raise ValueError(\"Train vectors not set. Call set_train_vectors() first.\")\n",
        "        return self.train_vectors\n",
        "\n",
        "    def get_test_vectors(self):\n",
        "        if not self.test_vectors:\n",
        "            raise ValueError(\"Test vectors not set. Call set_test_vectors() first.\")\n",
        "        return self.test_vectors\n"
      ]
    },
    {
      "cell_type": "code",
      "execution_count": null,
      "metadata": {
        "id": "Zd0MGWsjkrTC"
      },
      "outputs": [],
      "source": [
        "import gensim\n",
        "import numpy as np\n",
        "\n",
        "class myword2vec:\n",
        "\n",
        "    def __init__(self,name,window_size=10,word_min_count=1,vector_size=200):\n",
        "      self.window_size = window_size\n",
        "      self.word_min_count = word_min_count\n",
        "      self.vector_size = vector_size\n",
        "      self.name = name\n",
        "      self.word2vecmodel = gensim.models.Word2Vec(\n",
        "          window = window_size,\n",
        "          min_count = word_min_count,\n",
        "          vector_size = vector_size)\n",
        "      self.train_vectors = None\n",
        "      self.test_vectors = None\n",
        "\n",
        "    def make_corpus_iterable(self,text_data):\n",
        "      corpus_iterable =[]\n",
        "      for text in text_data:\n",
        "        vector = gensim.utils.simple_preprocess(text)\n",
        "        corpus_iterable.append(vector)\n",
        "      return corpus_iterable\n",
        "\n",
        "    def fit_transform(self,text_data):\n",
        "        corpus_iterable = self.make_corpus_iterable(text_data)\n",
        "        #build vocabulary and train word2vec model\n",
        "        self.word2vecmodel.build_vocab(corpus_iterable)\n",
        "        self.word2vecmodel.train(corpus_iterable,\n",
        "                        total_examples=self.word2vecmodel.corpus_count,\n",
        "                        epochs = self.word2vecmodel.epochs)\n",
        "        pickle.dump(self.word2vecmodel, open(f'/content/drive/MyDrive/PR2/word2vec_{self.name}.pkl', 'wb'))\n",
        "\n",
        "\n",
        "        #replace each doc with a vector calculated as mean of all words vectors in the doc\n",
        "        vectors=[]\n",
        "        for text in corpus_iterable:\n",
        "          vectors.append(self.word2vecmodel.wv.get_mean_vector(text))\n",
        "\n",
        "        #change the diminsions of the vectors array to be suitable for training functions\n",
        "        vectors_2d = np.stack(vectors)\n",
        "        return vectors_2d\n",
        "\n",
        "    def transform(self,text_data,force_fit=False):\n",
        "        corpus_iterable = self.make_corpus_iterable(text_data)\n",
        "        #replace each doc with a vector calculated as mean of all words vectors in the doc\n",
        "        vectors=[]\n",
        "        for text in corpus_iterable:\n",
        "          vectors.append(self.word2vecmodel.wv.get_mean_vector(text))\n",
        "\n",
        "        #change the diminsions of the vectors array to be suitable for training functions\n",
        "        vectors_2d = np.stack(vectors)\n",
        "\n",
        "        return vectors_2d\n",
        "\n",
        "    def set_train_vectors(self,train_vectors):\n",
        "        self.train_vectors = train_vectors\n",
        "\n",
        "    def set_test_vectors(self,test_vectors):\n",
        "        self.test_vectors = test_vectors\n",
        "\n",
        "    def get_train_vectors(self):\n",
        "        return self.train_vectors\n",
        "\n",
        "    def get_test_vectors(self):\n",
        "        return self.test_vectors\n",
        "\n"
      ]
    },
    {
      "cell_type": "code",
      "execution_count": null,
      "metadata": {
        "id": "6EUk3GsFhyVf"
      },
      "outputs": [],
      "source": [
        "from sklearn.linear_model import PassiveAggressiveClassifier\n",
        "from sklearn.metrics import classification_report\n",
        "class PA:\n",
        "  def __init__(self,name,max_iter=1000):\n",
        "    self.max_iter = max_iter\n",
        "    self.name = name\n",
        "    self.model = PassiveAggressiveClassifier(max_iter=max_iter)\n",
        "\n",
        "  def fit(self,X,y):\n",
        "    self.model.fit(X,y)\n",
        "    pickle.dump(self.model, open(f'/content/drive/MyDrive/PR2/PA_{self.name}.pkl', 'wb'))\n",
        "\n",
        "  def predict(self,X):\n",
        "    return self.model.predict(X)\n",
        "\n",
        "  def report(self,X_test,y_test):\n",
        "    return classification_report(y_test,self.predict(X_test))"
      ]
    },
    {
      "cell_type": "code",
      "execution_count": null,
      "metadata": {
        "id": "5H8DHCRPob3X"
      },
      "outputs": [],
      "source": [
        "from sklearn.ensemble import RandomForestClassifier\n",
        "class RF:\n",
        "  def __init__(self,name,n_estimators=100):\n",
        "    self.n_estimators = n_estimators\n",
        "    self.name = name\n",
        "    self.model = RandomForestClassifier(n_estimators=n_estimators)\n",
        "\n",
        "  def fit(self,X,y):\n",
        "    self.model.fit(X,y)\n",
        "    pickle.dump(self.model, open(f'/content/drive/MyDrive/PR2/RF_{self.name}.pkl', 'wb'))\n",
        "\n",
        "  def predict(self,X):\n",
        "    return self.model.predict(X)\n",
        "\n",
        "\n",
        "  def report(self,X_test,y_test):\n",
        "    return classification_report(y_test,self.predict(X_test))"
      ]
    },
    {
      "cell_type": "code",
      "execution_count": null,
      "metadata": {
        "id": "aafu8yCDptYL"
      },
      "outputs": [],
      "source": [
        "from sklearn.svm import SVC\n",
        "class SVM:\n",
        "  def __init__(self,name,C=1.0,kernel='rbf'):\n",
        "    self.C = C\n",
        "    self.kernel = kernel\n",
        "    self.name = name\n",
        "    self.model = SVC(C=C,kernel=kernel)\n",
        "\n",
        "  def fit(self,X,y):\n",
        "    self.model.fit(X,y)\n",
        "    pickle.dump(self.model, open(f'/content/drive/MyDrive/PR2/SVM_{self.name}.pkl', 'wb'))\n",
        "\n",
        "  def predict(self,X):\n",
        "       return self.model.predict(X)\n",
        "\n",
        "  def report(self,X_test,y_test):\n",
        "    return classification_report(y_test,self.predict(X_test))"
      ]
    },
    {
      "cell_type": "code",
      "execution_count": null,
      "metadata": {
        "id": "0UlYq__9LjJ8"
      },
      "outputs": [],
      "source": [
        "from keras.models import Sequential\n",
        "from keras.layers import Dense , LSTM ,Input\n",
        "import tensorflow as tf\n",
        "import numpy as np\n",
        "np.random.seed(42)\n",
        "tf.random.set_seed(42)\n",
        "\n",
        "class my_LSTM:\n",
        "  def __init__(self,name,units = 32,epochs = 10,batch_size = 32):\n",
        "    self.units = units\n",
        "    self.epochs = epochs\n",
        "    self.batch_size = batch_size\n",
        "    self.name = name\n",
        "\n",
        "  def build(self,X_train_vector,y_train,X_test_vector,y_test,Input_shape=1000):\n",
        "    model = Sequential()\n",
        "    model.add(LSTM(units = self.units , input_shape = (Input_shape,1) ))\n",
        "    model.add(Dense(1, activation='sigmoid'))\n",
        "    model.compile(loss='binary_crossentropy', optimizer='adam', metrics=['accuracy'])\n",
        "    history = model.fit(X_train_vector, y_train, epochs=self.epochs, batch_size=self.batch_size,validation_data=(X_test_vector,y_test),verbose=0)\n",
        "    model.save(f'/content/drive/MyDrive/PR2/LSTM_{self.name}.h5')\n",
        "    return history.history['val_accuracy'][-1]\n",
        "\n",
        "  def predict(self,X_vector):\n",
        "    model = tf.keras.models.load_model(f'/content/drive/MyDrive/PR2/LSTM_{self.name}.h5')\n",
        "    predict = model.predict(X_vector)\n",
        "    res = 1 if predict[0] > 0.5 else 0\n",
        "    return res\n"
      ]
    },
    {
      "cell_type": "code",
      "execution_count": null,
      "metadata": {
        "id": "Wv9OgdYWAjZV"
      },
      "outputs": [],
      "source": [
        "def set_vectorizers(X_train,X_test,vectorizer):\n",
        "  train_v = vectorizer.fit_transform(X_train)\n",
        "  test_v = vectorizer.transform(X_test)\n",
        "  vectorizer.set_train_vectors(train_v)\n",
        "  vectorizer.set_test_vectors(test_v)\n",
        "  return"
      ]
    },
    {
      "cell_type": "code",
      "execution_count": null,
      "metadata": {
        "id": "Tf5ldOUkp95C"
      },
      "outputs": [],
      "source": [
        "def train_predict_score(X_train,y_train,X_test,y_test,model,vectorizer):\n",
        "  X_train = vectorizer.get_train_vectors()\n",
        "  X_test = vectorizer.get_test_vectors()\n",
        "  model.fit(X_train,y_train)\n",
        "  score = model.report(X_test,y_test)\n",
        "  return score"
      ]
    },
    {
      "cell_type": "code",
      "execution_count": null,
      "metadata": {
        "id": "KcqAAdZxskeJ"
      },
      "outputs": [],
      "source": [
        "def predict(X,model,vectorizer):\n",
        "  X=process_text(X)\n",
        "  X = vectorizer.transform(X)\n",
        "  return model.predict(X)"
      ]
    },
    {
      "cell_type": "code",
      "execution_count": null,
      "metadata": {
        "id": "vqkgSK8IuD9V"
      },
      "outputs": [],
      "source": [
        "from sklearn.model_selection import train_test_split\n",
        "from sklearn.utils import shuffle\n",
        "\n",
        "X = df['text']\n",
        "y = df['label']\n",
        "\n",
        "# Stratify the split based on the labels to ensure equal representation\n",
        "X, y = shuffle(X, y, random_state=42)  # Shuffle data before splitting\n",
        "X_train, X_test, y_train, y_test = train_test_split(X, y, test_size=0.2, stratify=y, random_state=42)"
      ]
    },
    {
      "cell_type": "code",
      "execution_count": null,
      "metadata": {
        "id": "Xz7AlzjbunRr"
      },
      "outputs": [],
      "source": [
        "v1_tfidf = TfIdf('v1')\n",
        "v1_word2vec = myword2vec('v1')"
      ]
    },
    {
      "cell_type": "code",
      "execution_count": null,
      "metadata": {
        "id": "pZ6HnBbABdBf"
      },
      "outputs": [],
      "source": [
        "set_vectorizers(X_train,X_test,v1_tfidf)\n",
        "set_vectorizers(X_train,X_test,v1_word2vec)"
      ]
    },
    {
      "cell_type": "code",
      "execution_count": null,
      "metadata": {
        "id": "G7ieG663BZPt"
      },
      "outputs": [],
      "source": [
        "PA_tfidf = PA('PA_tfidf')\n",
        "PA_word2vec = PA('PA_word2vec')\n",
        "\n",
        "RF_tfidf = RF('RF_tfidf')\n",
        "RF_word2vec = RF('RF_word2vec')\n",
        "\n",
        "SVM_tfidf = SVM('SVM_tfidf')\n",
        "SVM_word2vec = SVM('SVM_word2vec')\n",
        "\n",
        "LSTM_tfidf = my_LSTM('LSTM_tfidf')\n",
        "LSTM_word2vec = my_LSTM('LSTM_word2vec')\n"
      ]
    },
    {
      "cell_type": "code",
      "source": [
        "PA_tfidf_report = train_predict_score(X_train,y_train,X_test,y_test,PA_tfidf,v1_tfidf)\n",
        "PA_word2vec_report = train_predict_score(X_train,y_train,X_test,y_test,PA_word2vec,v1_word2vec)\n",
        "\n",
        "print(\"PA_tfidf_report\" , \":\" ,PA_tfidf_report)\n",
        "print(\"PA_word2vec_report\" ,\":\",PA_word2vec_report)"
      ],
      "metadata": {
        "id": "4G20_20QwwSE",
        "colab": {
          "base_uri": "https://localhost:8080/"
        },
        "outputId": "943b7c56-9e84-4682-f5ee-43f2fd3d5d97"
      },
      "execution_count": null,
      "outputs": [
        {
          "output_type": "stream",
          "name": "stdout",
          "text": [
            "PA_tfidf_report :               precision    recall  f1-score   support\n",
            "\n",
            "           0       0.99      0.99      0.99      3433\n",
            "           1       0.99      0.99      0.99      3433\n",
            "\n",
            "    accuracy                           0.99      6866\n",
            "   macro avg       0.99      0.99      0.99      6866\n",
            "weighted avg       0.99      0.99      0.99      6866\n",
            "\n",
            "PA_word2vec_report :               precision    recall  f1-score   support\n",
            "\n",
            "           0       0.98      0.98      0.98      3433\n",
            "           1       0.98      0.98      0.98      3433\n",
            "\n",
            "    accuracy                           0.98      6866\n",
            "   macro avg       0.98      0.98      0.98      6866\n",
            "weighted avg       0.98      0.98      0.98      6866\n",
            "\n"
          ]
        }
      ]
    },
    {
      "cell_type": "code",
      "source": [
        "RF_tfidf_report =  train_predict_score(X_train,y_train,X_test,y_test,RF_tfidf,v1_tfidf)\n",
        "RF_word2vec_report = train_predict_score(X_train,y_train,X_test,y_test,RF_word2vec,v1_word2vec)\n",
        "\n",
        "print(\"RF_tfidf_report\" , \":\" ,RF_tfidf_report)\n",
        "print(\"RF_word2vec_report\" ,\":\",RF_word2vec_report)"
      ],
      "metadata": {
        "id": "0SEXtjZ0xEMc",
        "colab": {
          "base_uri": "https://localhost:8080/"
        },
        "outputId": "f8c6c041-a19c-4a62-e57f-fcfcb8dee660"
      },
      "execution_count": null,
      "outputs": [
        {
          "output_type": "stream",
          "name": "stdout",
          "text": [
            "RF_tfidf_report :               precision    recall  f1-score   support\n",
            "\n",
            "           0       1.00      1.00      1.00      3433\n",
            "           1       1.00      1.00      1.00      3433\n",
            "\n",
            "    accuracy                           1.00      6866\n",
            "   macro avg       1.00      1.00      1.00      6866\n",
            "weighted avg       1.00      1.00      1.00      6866\n",
            "\n",
            "RF_word2vec_report :               precision    recall  f1-score   support\n",
            "\n",
            "           0       0.96      0.95      0.96      3433\n",
            "           1       0.95      0.97      0.96      3433\n",
            "\n",
            "    accuracy                           0.96      6866\n",
            "   macro avg       0.96      0.96      0.96      6866\n",
            "weighted avg       0.96      0.96      0.96      6866\n",
            "\n"
          ]
        }
      ]
    },
    {
      "cell_type": "code",
      "source": [
        "SVM_tfidf_report = train_predict_score(X_train,y_train,X_test,y_test,SVM_tfidf,v1_tfidf)\n",
        "SVM_word2vec_report = train_predict_score(X_train,y_train,X_test,y_test,SVM_word2vec,v1_word2vec)\n",
        "print(\"SVM_tfidf_report\" , \":\" ,SVM_tfidf_report)\n",
        "print(\"SVM_word2vec_report\" ,\":\",SVM_word2vec_report)"
      ],
      "metadata": {
        "id": "kCK2aKe2xId1",
        "colab": {
          "base_uri": "https://localhost:8080/"
        },
        "outputId": "18fbfb95-bfe0-4e2c-cb9c-e1dd2cc1fece"
      },
      "execution_count": null,
      "outputs": [
        {
          "output_type": "stream",
          "name": "stdout",
          "text": [
            "SVM_tfidf_report :               precision    recall  f1-score   support\n",
            "\n",
            "           0       0.99      0.99      0.99      3433\n",
            "           1       0.99      0.99      0.99      3433\n",
            "\n",
            "    accuracy                           0.99      6866\n",
            "   macro avg       0.99      0.99      0.99      6866\n",
            "weighted avg       0.99      0.99      0.99      6866\n",
            "\n",
            "SVM_word2vec_report :               precision    recall  f1-score   support\n",
            "\n",
            "           0       0.99      0.97      0.98      3433\n",
            "           1       0.97      0.99      0.98      3433\n",
            "\n",
            "    accuracy                           0.98      6866\n",
            "   macro avg       0.98      0.98      0.98      6866\n",
            "weighted avg       0.98      0.98      0.98      6866\n",
            "\n"
          ]
        }
      ]
    },
    {
      "cell_type": "code",
      "source": [
        "gpt = pd.read_csv('/content/drive/MyDrive/PR2/Chat_GPT_news.csv')"
      ],
      "metadata": {
        "id": "6LVocZVwq7E2"
      },
      "execution_count": null,
      "outputs": []
    },
    {
      "cell_type": "code",
      "source": [
        "gpt_tfidf_test_vectors = v1_tfidf.transform(gpt['text'])\n",
        "gpt_word2vec_test_vectors = v1_word2vec.transform(gpt['text'])"
      ],
      "metadata": {
        "id": "xbeqcpXNrHfH"
      },
      "execution_count": null,
      "outputs": []
    },
    {
      "cell_type": "code",
      "source": [
        "gpt_PA_tfidf_report = PA_tfidf.report(gpt_tfidf_test_vectors,gpt['label'])\n",
        "gpt_PA_word2vec_report = PA_word2vec.report(gpt_word2vec_test_vectors,gpt['label'])\n",
        "\n",
        "print(\"gpt_PA_tfidf_report\" , \":\" ,gpt_PA_tfidf_report)\n",
        "print(\"gpt_PA_word2vec_report\" ,\":\",gpt_PA_word2vec_report)"
      ],
      "metadata": {
        "colab": {
          "base_uri": "https://localhost:8080/"
        },
        "id": "UtDDOLACrvqC",
        "outputId": "f94417d4-d421-4f22-b2d5-883833fbd7f1"
      },
      "execution_count": null,
      "outputs": [
        {
          "output_type": "stream",
          "name": "stdout",
          "text": [
            "gpt_PA_tfidf_report :               precision    recall  f1-score   support\n",
            "\n",
            "         0.0       0.51      0.93      0.66       150\n",
            "         1.0       0.63      0.13      0.21       150\n",
            "\n",
            "    accuracy                           0.53       300\n",
            "   macro avg       0.57      0.53      0.44       300\n",
            "weighted avg       0.57      0.53      0.44       300\n",
            "\n",
            "gpt_PA_word2vec_report :               precision    recall  f1-score   support\n",
            "\n",
            "         0.0       0.64      0.58      0.61       150\n",
            "         1.0       0.62      0.68      0.65       150\n",
            "\n",
            "    accuracy                           0.63       300\n",
            "   macro avg       0.63      0.63      0.63       300\n",
            "weighted avg       0.63      0.63      0.63       300\n",
            "\n"
          ]
        }
      ]
    },
    {
      "cell_type": "code",
      "source": [
        "gpt_RF_tfidf_report = RF_tfidf.report(gpt_tfidf_test_vectors,gpt['label'])\n",
        "gpt_RF_word2vec_report = RF_word2vec.report(gpt_word2vec_test_vectors,gpt['label'])\n",
        "\n",
        "print(\"gpt_RF_tfidf_report\" , \":\" ,gpt_RF_tfidf_report)\n",
        "print(\"gpt_RF_word2vec_report\" ,\":\",gpt_RF_word2vec_report)"
      ],
      "metadata": {
        "colab": {
          "base_uri": "https://localhost:8080/"
        },
        "id": "JuE6fwsDs_05",
        "outputId": "02eb0694-58f3-48bf-8b5e-b11c287c07f0"
      },
      "execution_count": null,
      "outputs": [
        {
          "output_type": "stream",
          "name": "stdout",
          "text": [
            "gpt_RF_tfidf_report :               precision    recall  f1-score   support\n",
            "\n",
            "         0.0       0.50      1.00      0.67       150\n",
            "         1.0       0.00      0.00      0.00       150\n",
            "\n",
            "    accuracy                           0.50       300\n",
            "   macro avg       0.25      0.50      0.33       300\n",
            "weighted avg       0.25      0.50      0.33       300\n",
            "\n",
            "gpt_RF_word2vec_report :               precision    recall  f1-score   support\n",
            "\n",
            "         0.0       0.63      0.71      0.67       150\n",
            "         1.0       0.67      0.57      0.62       150\n",
            "\n",
            "    accuracy                           0.64       300\n",
            "   macro avg       0.65      0.64      0.64       300\n",
            "weighted avg       0.65      0.64      0.64       300\n",
            "\n"
          ]
        },
        {
          "output_type": "stream",
          "name": "stderr",
          "text": [
            "/usr/local/lib/python3.10/dist-packages/sklearn/metrics/_classification.py:1471: UndefinedMetricWarning: Precision and F-score are ill-defined and being set to 0.0 in labels with no predicted samples. Use `zero_division` parameter to control this behavior.\n",
            "  _warn_prf(average, modifier, msg_start, len(result))\n",
            "/usr/local/lib/python3.10/dist-packages/sklearn/metrics/_classification.py:1471: UndefinedMetricWarning: Precision and F-score are ill-defined and being set to 0.0 in labels with no predicted samples. Use `zero_division` parameter to control this behavior.\n",
            "  _warn_prf(average, modifier, msg_start, len(result))\n",
            "/usr/local/lib/python3.10/dist-packages/sklearn/metrics/_classification.py:1471: UndefinedMetricWarning: Precision and F-score are ill-defined and being set to 0.0 in labels with no predicted samples. Use `zero_division` parameter to control this behavior.\n",
            "  _warn_prf(average, modifier, msg_start, len(result))\n"
          ]
        }
      ]
    },
    {
      "cell_type": "code",
      "source": [
        "gpt_SVM_tfidf_report = SVM_tfidf.report(gpt_tfidf_test_vectors,gpt['label'])\n",
        "gpt_SVM_word2vec_report = SVM_word2vec.report(gpt_word2vec_test_vectors,gpt['label'])\n",
        "\n",
        "print(\"gpt_SVM_tfidf_report\" , \":\" ,gpt_SVM_tfidf_report)\n",
        "print(\"gpt_SVM_word2vec_report\" ,\":\",gpt_SVM_word2vec_report)"
      ],
      "metadata": {
        "colab": {
          "base_uri": "https://localhost:8080/"
        },
        "id": "s9nB1GCstBIx",
        "outputId": "0108cd3b-fa11-4bcb-92c1-cedc87874805"
      },
      "execution_count": null,
      "outputs": [
        {
          "output_type": "stream",
          "name": "stdout",
          "text": [
            "gpt_SVM_tfidf_report :               precision    recall  f1-score   support\n",
            "\n",
            "         0.0       0.51      0.98      0.67       150\n",
            "         1.0       0.77      0.07      0.12       150\n",
            "\n",
            "    accuracy                           0.52       300\n",
            "   macro avg       0.64      0.52      0.40       300\n",
            "weighted avg       0.64      0.52      0.40       300\n",
            "\n",
            "gpt_SVM_word2vec_report :               precision    recall  f1-score   support\n",
            "\n",
            "         0.0       0.58      0.77      0.66       150\n",
            "         1.0       0.65      0.44      0.53       150\n",
            "\n",
            "    accuracy                           0.60       300\n",
            "   macro avg       0.62      0.60      0.59       300\n",
            "weighted avg       0.62      0.60      0.59       300\n",
            "\n"
          ]
        }
      ]
    },
    {
      "cell_type": "code",
      "execution_count": null,
      "metadata": {
        "id": "iNata9mJve85",
        "colab": {
          "base_uri": "https://localhost:8080/"
        },
        "outputId": "f9c5b78d-dba2-4d14-aab9-516782468753"
      },
      "outputs": [
        {
          "output_type": "stream",
          "name": "stdout",
          "text": [
            "LSTM_tfidf_report : 0.6514710187911987\n"
          ]
        },
        {
          "output_type": "stream",
          "name": "stderr",
          "text": [
            "/usr/local/lib/python3.10/dist-packages/keras/src/engine/training.py:3103: UserWarning: You are saving your model as an HDF5 file via `model.save()`. This file format is considered legacy. We recommend using instead the native Keras format, e.g. `model.save('my_model.keras')`.\n",
            "  saving_api.save_model(\n"
          ]
        }
      ],
      "source": [
        "LSTM_tfidf_report = LSTM_tfidf.build(X_train_vector = np.array(v1_tfidf.get_train_vectors()),y_train = y_train.to_numpy(),X_test_vector=np.array(v1_tfidf.get_test_vectors()),y_test=y_test.to_numpy(),Input_shape=1000)\n",
        "\n",
        "print(\"LSTM_tfidf_report\" , \":\" ,LSTM_tfidf_report)\n"
      ]
    },
    {
      "cell_type": "code",
      "source": [
        "LSTM_word2vec_report = LSTM_word2vec.build(X_train_vector = v1_word2vec.get_train_vectors(),y_train = y_train,X_test_vector=v1_word2vec.get_test_vectors(),y_test=y_test,Input_shape=200)\n",
        "print(\"LSTM_word2vec_report\" ,\":\",LSTM_word2vec_report)"
      ],
      "metadata": {
        "colab": {
          "base_uri": "https://localhost:8080/"
        },
        "id": "I70OcBj-NPW6",
        "outputId": "10aa60a9-2f17-48bf-ad54-9cbd32049b30"
      },
      "execution_count": null,
      "outputs": [
        {
          "output_type": "stream",
          "name": "stdout",
          "text": [
            "LSTM_word2vec_report : 0.9072239995002747\n"
          ]
        }
      ]
    },
    {
      "cell_type": "code",
      "source": [
        "model = tf.keras.models.load_model(f'/content/drive/MyDrive/PR2/LSTM_LSTM_tfidf.h5')\n",
        "predict = model.predict(np.array(gpt_tfidf_test_vectors))\n",
        "correct = 0\n",
        "for pred,label in zip(predict,gpt['label']):\n",
        "  if pred[0] > 0.5:\n",
        "    if label == 1:\n",
        "      correct += 1\n",
        "  else:\n",
        "    if label == 0:\n",
        "      correct += 1\n",
        "accuracy = correct/len(predict)\n",
        "print(accuracy)"
      ],
      "metadata": {
        "colab": {
          "base_uri": "https://localhost:8080/"
        },
        "id": "7xwCgACANxFB",
        "outputId": "a47717f4-c3aa-4cb8-cdec-21e4c2986207"
      },
      "execution_count": null,
      "outputs": [
        {
          "output_type": "stream",
          "name": "stdout",
          "text": [
            "10/10 [==============================] - 1s 52ms/step\n",
            "0.52\n"
          ]
        }
      ]
    },
    {
      "cell_type": "code",
      "source": [
        "model = tf.keras.models.load_model(f'/content/drive/MyDrive/PR2/LSTM_LSTM_word2vec.h5')\n",
        "predict = model.predict(np.array(gpt_word2vec_test_vectors))\n",
        "correct = 0\n",
        "for pred,label in zip(predict,gpt['label']):\n",
        "  if pred[0] > 0.5:\n",
        "    if label == 1:\n",
        "      correct += 1\n",
        "  else:\n",
        "    if label == 0:\n",
        "      correct += 1\n",
        "accuracy = correct/len(predict)\n",
        "print(accuracy)"
      ],
      "metadata": {
        "colab": {
          "base_uri": "https://localhost:8080/"
        },
        "id": "A6S9yqCRMqj0",
        "outputId": "8eac38af-881e-44c6-ffb3-1f08113d614b"
      },
      "execution_count": null,
      "outputs": [
        {
          "output_type": "stream",
          "name": "stdout",
          "text": [
            "10/10 [==============================] - 0s 13ms/step\n",
            "0.58\n"
          ]
        }
      ]
    }
  ],
  "metadata": {
    "colab": {
      "provenance": [],
      "gpuType": "V28",
      "include_colab_link": true
    },
    "kernelspec": {
      "display_name": "Python 3",
      "name": "python3"
    },
    "language_info": {
      "name": "python"
    },
    "accelerator": "TPU"
  },
  "nbformat": 4,
  "nbformat_minor": 0
}