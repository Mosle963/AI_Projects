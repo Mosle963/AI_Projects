{
  "cells": [
    {
      "cell_type": "markdown",
      "metadata": {
        "id": "view-in-github",
        "colab_type": "text"
      },
      "source": [
        "<a href=\"https://colab.research.google.com/github/Mosle963/AI_Projects/blob/main/Detecting_Fake_News.ipynb\" target=\"_parent\"><img src=\"https://colab.research.google.com/assets/colab-badge.svg\" alt=\"Open In Colab\"/></a>"
      ]
    },
    {
      "cell_type": "markdown",
      "source": [
        "**Connecting to drive to access dataset and save models there**\n"
      ],
      "metadata": {
        "id": "RTmW8WT1Pe0d"
      }
    },
    {
      "cell_type": "code",
      "execution_count": null,
      "metadata": {
        "colab": {
          "base_uri": "https://localhost:8080/"
        },
        "id": "GN7QqSUGhYOX",
        "outputId": "f4e14345-b5c9-4100-9edd-b6da903da8ef"
      },
      "outputs": [
        {
          "output_type": "stream",
          "name": "stdout",
          "text": [
            "Mounted at /content/drive\n"
          ]
        }
      ],
      "source": [
        "from google.colab import drive\n",
        "drive.mount('/content/drive')"
      ]
    },
    {
      "cell_type": "markdown",
      "source": [
        "**importing dataset as pandas data frame**"
      ],
      "metadata": {
        "id": "ugyHFTOMP_H7"
      }
    },
    {
      "cell_type": "code",
      "execution_count": null,
      "metadata": {
        "id": "O_cR_H3shqbZ"
      },
      "outputs": [],
      "source": [
        "import numpy as np # linear algebra\n",
        "import pandas as pd # data processing, CSV file I/O (e.g. pd.read_csv)\n",
        "df = pd.read_csv('/content/drive/MyDrive/PR2/true-fake-news-processed.csv')"
      ]
    },
    {
      "cell_type": "markdown",
      "source": [
        "**viewing the first few rows of dataframe**"
      ],
      "metadata": {
        "id": "t2EYlvG5QliK"
      }
    },
    {
      "cell_type": "code",
      "execution_count": null,
      "metadata": {
        "colab": {
          "base_uri": "https://localhost:8080/",
          "height": 226
        },
        "id": "y0XHwpupokUz",
        "outputId": "35ea5764-e9b9-45d7-ec8c-0f907ee5f856"
      },
      "outputs": [
        {
          "output_type": "execute_result",
          "data": {
            "text/plain": [
              "                                                text  label\n",
              "0  donald trump ha white house republican control...      0\n",
              "1  sick tired hearing donald trump whine fake new...      0\n",
              "2  secret gop brass le thrilled donald trump pres...      0\n",
              "3  glenn beck man described forbes someone manage...      0\n",
              "4  former fbi agent navy seal jonathan gilliam sa...      0"
            ],
            "text/html": [
              "\n",
              "  <div id=\"df-40402697-e7b9-46ac-8474-4893f2e9be42\" class=\"colab-df-container\">\n",
              "    <div>\n",
              "<style scoped>\n",
              "    .dataframe tbody tr th:only-of-type {\n",
              "        vertical-align: middle;\n",
              "    }\n",
              "\n",
              "    .dataframe tbody tr th {\n",
              "        vertical-align: top;\n",
              "    }\n",
              "\n",
              "    .dataframe thead th {\n",
              "        text-align: right;\n",
              "    }\n",
              "</style>\n",
              "<table border=\"1\" class=\"dataframe\">\n",
              "  <thead>\n",
              "    <tr style=\"text-align: right;\">\n",
              "      <th></th>\n",
              "      <th>text</th>\n",
              "      <th>label</th>\n",
              "    </tr>\n",
              "  </thead>\n",
              "  <tbody>\n",
              "    <tr>\n",
              "      <th>0</th>\n",
              "      <td>donald trump ha white house republican control...</td>\n",
              "      <td>0</td>\n",
              "    </tr>\n",
              "    <tr>\n",
              "      <th>1</th>\n",
              "      <td>sick tired hearing donald trump whine fake new...</td>\n",
              "      <td>0</td>\n",
              "    </tr>\n",
              "    <tr>\n",
              "      <th>2</th>\n",
              "      <td>secret gop brass le thrilled donald trump pres...</td>\n",
              "      <td>0</td>\n",
              "    </tr>\n",
              "    <tr>\n",
              "      <th>3</th>\n",
              "      <td>glenn beck man described forbes someone manage...</td>\n",
              "      <td>0</td>\n",
              "    </tr>\n",
              "    <tr>\n",
              "      <th>4</th>\n",
              "      <td>former fbi agent navy seal jonathan gilliam sa...</td>\n",
              "      <td>0</td>\n",
              "    </tr>\n",
              "  </tbody>\n",
              "</table>\n",
              "</div>\n",
              "    <div class=\"colab-df-buttons\">\n",
              "\n",
              "  <div class=\"colab-df-container\">\n",
              "    <button class=\"colab-df-convert\" onclick=\"convertToInteractive('df-40402697-e7b9-46ac-8474-4893f2e9be42')\"\n",
              "            title=\"Convert this dataframe to an interactive table.\"\n",
              "            style=\"display:none;\">\n",
              "\n",
              "  <svg xmlns=\"http://www.w3.org/2000/svg\" height=\"24px\" viewBox=\"0 -960 960 960\">\n",
              "    <path d=\"M120-120v-720h720v720H120Zm60-500h600v-160H180v160Zm220 220h160v-160H400v160Zm0 220h160v-160H400v160ZM180-400h160v-160H180v160Zm440 0h160v-160H620v160ZM180-180h160v-160H180v160Zm440 0h160v-160H620v160Z\"/>\n",
              "  </svg>\n",
              "    </button>\n",
              "\n",
              "  <style>\n",
              "    .colab-df-container {\n",
              "      display:flex;\n",
              "      gap: 12px;\n",
              "    }\n",
              "\n",
              "    .colab-df-convert {\n",
              "      background-color: #E8F0FE;\n",
              "      border: none;\n",
              "      border-radius: 50%;\n",
              "      cursor: pointer;\n",
              "      display: none;\n",
              "      fill: #1967D2;\n",
              "      height: 32px;\n",
              "      padding: 0 0 0 0;\n",
              "      width: 32px;\n",
              "    }\n",
              "\n",
              "    .colab-df-convert:hover {\n",
              "      background-color: #E2EBFA;\n",
              "      box-shadow: 0px 1px 2px rgba(60, 64, 67, 0.3), 0px 1px 3px 1px rgba(60, 64, 67, 0.15);\n",
              "      fill: #174EA6;\n",
              "    }\n",
              "\n",
              "    .colab-df-buttons div {\n",
              "      margin-bottom: 4px;\n",
              "    }\n",
              "\n",
              "    [theme=dark] .colab-df-convert {\n",
              "      background-color: #3B4455;\n",
              "      fill: #D2E3FC;\n",
              "    }\n",
              "\n",
              "    [theme=dark] .colab-df-convert:hover {\n",
              "      background-color: #434B5C;\n",
              "      box-shadow: 0px 1px 3px 1px rgba(0, 0, 0, 0.15);\n",
              "      filter: drop-shadow(0px 1px 2px rgba(0, 0, 0, 0.3));\n",
              "      fill: #FFFFFF;\n",
              "    }\n",
              "  </style>\n",
              "\n",
              "    <script>\n",
              "      const buttonEl =\n",
              "        document.querySelector('#df-40402697-e7b9-46ac-8474-4893f2e9be42 button.colab-df-convert');\n",
              "      buttonEl.style.display =\n",
              "        google.colab.kernel.accessAllowed ? 'block' : 'none';\n",
              "\n",
              "      async function convertToInteractive(key) {\n",
              "        const element = document.querySelector('#df-40402697-e7b9-46ac-8474-4893f2e9be42');\n",
              "        const dataTable =\n",
              "          await google.colab.kernel.invokeFunction('convertToInteractive',\n",
              "                                                    [key], {});\n",
              "        if (!dataTable) return;\n",
              "\n",
              "        const docLinkHtml = 'Like what you see? Visit the ' +\n",
              "          '<a target=\"_blank\" href=https://colab.research.google.com/notebooks/data_table.ipynb>data table notebook</a>'\n",
              "          + ' to learn more about interactive tables.';\n",
              "        element.innerHTML = '';\n",
              "        dataTable['output_type'] = 'display_data';\n",
              "        await google.colab.output.renderOutput(dataTable, element);\n",
              "        const docLink = document.createElement('div');\n",
              "        docLink.innerHTML = docLinkHtml;\n",
              "        element.appendChild(docLink);\n",
              "      }\n",
              "    </script>\n",
              "  </div>\n",
              "\n",
              "\n",
              "<div id=\"df-ae10cd62-66f3-4f87-b331-8b02004427e6\">\n",
              "  <button class=\"colab-df-quickchart\" onclick=\"quickchart('df-ae10cd62-66f3-4f87-b331-8b02004427e6')\"\n",
              "            title=\"Suggest charts\"\n",
              "            style=\"display:none;\">\n",
              "\n",
              "<svg xmlns=\"http://www.w3.org/2000/svg\" height=\"24px\"viewBox=\"0 0 24 24\"\n",
              "     width=\"24px\">\n",
              "    <g>\n",
              "        <path d=\"M19 3H5c-1.1 0-2 .9-2 2v14c0 1.1.9 2 2 2h14c1.1 0 2-.9 2-2V5c0-1.1-.9-2-2-2zM9 17H7v-7h2v7zm4 0h-2V7h2v10zm4 0h-2v-4h2v4z\"/>\n",
              "    </g>\n",
              "</svg>\n",
              "  </button>\n",
              "\n",
              "<style>\n",
              "  .colab-df-quickchart {\n",
              "      --bg-color: #E8F0FE;\n",
              "      --fill-color: #1967D2;\n",
              "      --hover-bg-color: #E2EBFA;\n",
              "      --hover-fill-color: #174EA6;\n",
              "      --disabled-fill-color: #AAA;\n",
              "      --disabled-bg-color: #DDD;\n",
              "  }\n",
              "\n",
              "  [theme=dark] .colab-df-quickchart {\n",
              "      --bg-color: #3B4455;\n",
              "      --fill-color: #D2E3FC;\n",
              "      --hover-bg-color: #434B5C;\n",
              "      --hover-fill-color: #FFFFFF;\n",
              "      --disabled-bg-color: #3B4455;\n",
              "      --disabled-fill-color: #666;\n",
              "  }\n",
              "\n",
              "  .colab-df-quickchart {\n",
              "    background-color: var(--bg-color);\n",
              "    border: none;\n",
              "    border-radius: 50%;\n",
              "    cursor: pointer;\n",
              "    display: none;\n",
              "    fill: var(--fill-color);\n",
              "    height: 32px;\n",
              "    padding: 0;\n",
              "    width: 32px;\n",
              "  }\n",
              "\n",
              "  .colab-df-quickchart:hover {\n",
              "    background-color: var(--hover-bg-color);\n",
              "    box-shadow: 0 1px 2px rgba(60, 64, 67, 0.3), 0 1px 3px 1px rgba(60, 64, 67, 0.15);\n",
              "    fill: var(--button-hover-fill-color);\n",
              "  }\n",
              "\n",
              "  .colab-df-quickchart-complete:disabled,\n",
              "  .colab-df-quickchart-complete:disabled:hover {\n",
              "    background-color: var(--disabled-bg-color);\n",
              "    fill: var(--disabled-fill-color);\n",
              "    box-shadow: none;\n",
              "  }\n",
              "\n",
              "  .colab-df-spinner {\n",
              "    border: 2px solid var(--fill-color);\n",
              "    border-color: transparent;\n",
              "    border-bottom-color: var(--fill-color);\n",
              "    animation:\n",
              "      spin 1s steps(1) infinite;\n",
              "  }\n",
              "\n",
              "  @keyframes spin {\n",
              "    0% {\n",
              "      border-color: transparent;\n",
              "      border-bottom-color: var(--fill-color);\n",
              "      border-left-color: var(--fill-color);\n",
              "    }\n",
              "    20% {\n",
              "      border-color: transparent;\n",
              "      border-left-color: var(--fill-color);\n",
              "      border-top-color: var(--fill-color);\n",
              "    }\n",
              "    30% {\n",
              "      border-color: transparent;\n",
              "      border-left-color: var(--fill-color);\n",
              "      border-top-color: var(--fill-color);\n",
              "      border-right-color: var(--fill-color);\n",
              "    }\n",
              "    40% {\n",
              "      border-color: transparent;\n",
              "      border-right-color: var(--fill-color);\n",
              "      border-top-color: var(--fill-color);\n",
              "    }\n",
              "    60% {\n",
              "      border-color: transparent;\n",
              "      border-right-color: var(--fill-color);\n",
              "    }\n",
              "    80% {\n",
              "      border-color: transparent;\n",
              "      border-right-color: var(--fill-color);\n",
              "      border-bottom-color: var(--fill-color);\n",
              "    }\n",
              "    90% {\n",
              "      border-color: transparent;\n",
              "      border-bottom-color: var(--fill-color);\n",
              "    }\n",
              "  }\n",
              "</style>\n",
              "\n",
              "  <script>\n",
              "    async function quickchart(key) {\n",
              "      const quickchartButtonEl =\n",
              "        document.querySelector('#' + key + ' button');\n",
              "      quickchartButtonEl.disabled = true;  // To prevent multiple clicks.\n",
              "      quickchartButtonEl.classList.add('colab-df-spinner');\n",
              "      try {\n",
              "        const charts = await google.colab.kernel.invokeFunction(\n",
              "            'suggestCharts', [key], {});\n",
              "      } catch (error) {\n",
              "        console.error('Error during call to suggestCharts:', error);\n",
              "      }\n",
              "      quickchartButtonEl.classList.remove('colab-df-spinner');\n",
              "      quickchartButtonEl.classList.add('colab-df-quickchart-complete');\n",
              "    }\n",
              "    (() => {\n",
              "      let quickchartButtonEl =\n",
              "        document.querySelector('#df-ae10cd62-66f3-4f87-b331-8b02004427e6 button');\n",
              "      quickchartButtonEl.style.display =\n",
              "        google.colab.kernel.accessAllowed ? 'block' : 'none';\n",
              "    })();\n",
              "  </script>\n",
              "</div>\n",
              "\n",
              "    </div>\n",
              "  </div>\n"
            ],
            "application/vnd.google.colaboratory.intrinsic+json": {
              "type": "dataframe",
              "variable_name": "df",
              "summary": "{\n  \"name\": \"df\",\n  \"rows\": 34330,\n  \"fields\": [\n    {\n      \"column\": \"text\",\n      \"properties\": {\n        \"dtype\": \"string\",\n        \"num_unique_values\": 34165,\n        \"samples\": [\n          \"washington reuters president donald trump wa simply saying nice thing ally called australia universal healthcare system better system doe think country adopt similar approach white house said friday president wa complimenting foreign leader operation healthcare system white house spokeswoman sarah huckabee sander said news briefing mean anything trump raised eyebrow told australian prime minister malcolm turnbull thursday new york better health care trump spoke shortly led white house rally republican house representative passed legislation overturn much former president barack obama signature healthcare law move away guarantee universal coverage measure opposed democrat must clear senate trump sign law course australian better healthcare everybody doe trump tweeted friday obamacare dead healthcare soon great independent scorekeeper congressional budget office yet analyzed bill estimated earlier version would led million fewer american insurance coverage current law australia government play larger role health system country provides free hospital treatment subsidized medical care resident publicly funded program roughly half australian choose buy private coverage provides greater choice huckabee sander said trump remark mean think united state adopt similar system think belief good healthcare system australia said work australia may work united state version story third paragraph corrects name australian prime minister\",\n          \"stockholm reuters swedish prime minister stefan lofven easily survived parliamentary vote confidence brought friday anti immigration sweden democrat botched outsourcing project may led leak sensitive information parliament member supported motion lofven lost government would resigned year general election two minister resigned potential leak sensitive data result deal ibm sweden took function swedish transport agency last year eight vote confidence tabled parliament none ha successful\",\n          \"watch flashback bill clinton attorney fired one day cnn say word peoplepower preet bharara pic twitter com elupjymk tennessee tengop march even today medium wa called ignoring clinton firing new york time tried prove trump firing somehow mean spirited even went far suggest president trump wa simply taking marching order tv radio talk show host sean hannity fired\"\n        ],\n        \"semantic_type\": \"\",\n        \"description\": \"\"\n      }\n    },\n    {\n      \"column\": \"label\",\n      \"properties\": {\n        \"dtype\": \"number\",\n        \"std\": 0,\n        \"min\": 0,\n        \"max\": 1,\n        \"num_unique_values\": 2,\n        \"samples\": [\n          1,\n          0\n        ],\n        \"semantic_type\": \"\",\n        \"description\": \"\"\n      }\n    }\n  ]\n}"
            }
          },
          "metadata": {},
          "execution_count": 3
        }
      ],
      "source": [
        "df.head()"
      ]
    },
    {
      "cell_type": "markdown",
      "source": [
        "**View the shape of dataframe which is 34330 rows each of them contains**\n",
        "*   text  : the text of the news article\n",
        "*   label : 0 for fake news ,  1 for true news"
      ],
      "metadata": {
        "id": "_ipBqpE0QuH6"
      }
    },
    {
      "cell_type": "code",
      "execution_count": null,
      "metadata": {
        "colab": {
          "base_uri": "https://localhost:8080/"
        },
        "id": "WlTQZmOkol7b",
        "outputId": "e9e6b347-60df-4cc4-a245-b58837b897c7"
      },
      "outputs": [
        {
          "output_type": "execute_result",
          "data": {
            "text/plain": [
              "(34330, 2)"
            ]
          },
          "metadata": {},
          "execution_count": 4
        }
      ],
      "source": [
        "df.shape"
      ]
    },
    {
      "cell_type": "code",
      "execution_count": null,
      "metadata": {
        "colab": {
          "base_uri": "https://localhost:8080/",
          "height": 226
        },
        "id": "LAqHYv7-onMi",
        "outputId": "ad967d68-6e41-423b-d0df-def01062eea4"
      },
      "outputs": [
        {
          "output_type": "execute_result",
          "data": {
            "text/plain": [
              "                                                    text  label\n",
              "34325  mexico city reuters mexico wa pitched deep unc...      1\n",
              "34326  washington reuters mexican finance minister jo...      1\n",
              "34327  united nation reuters united nation security c...      1\n",
              "34328  washington reuters president donald trump said...      1\n",
              "34329  riyadh reuters oh arab oh muslim slaughtered o...      1"
            ],
            "text/html": [
              "\n",
              "  <div id=\"df-88673e43-4f3d-4a7e-8a27-a3c11eef4758\" class=\"colab-df-container\">\n",
              "    <div>\n",
              "<style scoped>\n",
              "    .dataframe tbody tr th:only-of-type {\n",
              "        vertical-align: middle;\n",
              "    }\n",
              "\n",
              "    .dataframe tbody tr th {\n",
              "        vertical-align: top;\n",
              "    }\n",
              "\n",
              "    .dataframe thead th {\n",
              "        text-align: right;\n",
              "    }\n",
              "</style>\n",
              "<table border=\"1\" class=\"dataframe\">\n",
              "  <thead>\n",
              "    <tr style=\"text-align: right;\">\n",
              "      <th></th>\n",
              "      <th>text</th>\n",
              "      <th>label</th>\n",
              "    </tr>\n",
              "  </thead>\n",
              "  <tbody>\n",
              "    <tr>\n",
              "      <th>34325</th>\n",
              "      <td>mexico city reuters mexico wa pitched deep unc...</td>\n",
              "      <td>1</td>\n",
              "    </tr>\n",
              "    <tr>\n",
              "      <th>34326</th>\n",
              "      <td>washington reuters mexican finance minister jo...</td>\n",
              "      <td>1</td>\n",
              "    </tr>\n",
              "    <tr>\n",
              "      <th>34327</th>\n",
              "      <td>united nation reuters united nation security c...</td>\n",
              "      <td>1</td>\n",
              "    </tr>\n",
              "    <tr>\n",
              "      <th>34328</th>\n",
              "      <td>washington reuters president donald trump said...</td>\n",
              "      <td>1</td>\n",
              "    </tr>\n",
              "    <tr>\n",
              "      <th>34329</th>\n",
              "      <td>riyadh reuters oh arab oh muslim slaughtered o...</td>\n",
              "      <td>1</td>\n",
              "    </tr>\n",
              "  </tbody>\n",
              "</table>\n",
              "</div>\n",
              "    <div class=\"colab-df-buttons\">\n",
              "\n",
              "  <div class=\"colab-df-container\">\n",
              "    <button class=\"colab-df-convert\" onclick=\"convertToInteractive('df-88673e43-4f3d-4a7e-8a27-a3c11eef4758')\"\n",
              "            title=\"Convert this dataframe to an interactive table.\"\n",
              "            style=\"display:none;\">\n",
              "\n",
              "  <svg xmlns=\"http://www.w3.org/2000/svg\" height=\"24px\" viewBox=\"0 -960 960 960\">\n",
              "    <path d=\"M120-120v-720h720v720H120Zm60-500h600v-160H180v160Zm220 220h160v-160H400v160Zm0 220h160v-160H400v160ZM180-400h160v-160H180v160Zm440 0h160v-160H620v160ZM180-180h160v-160H180v160Zm440 0h160v-160H620v160Z\"/>\n",
              "  </svg>\n",
              "    </button>\n",
              "\n",
              "  <style>\n",
              "    .colab-df-container {\n",
              "      display:flex;\n",
              "      gap: 12px;\n",
              "    }\n",
              "\n",
              "    .colab-df-convert {\n",
              "      background-color: #E8F0FE;\n",
              "      border: none;\n",
              "      border-radius: 50%;\n",
              "      cursor: pointer;\n",
              "      display: none;\n",
              "      fill: #1967D2;\n",
              "      height: 32px;\n",
              "      padding: 0 0 0 0;\n",
              "      width: 32px;\n",
              "    }\n",
              "\n",
              "    .colab-df-convert:hover {\n",
              "      background-color: #E2EBFA;\n",
              "      box-shadow: 0px 1px 2px rgba(60, 64, 67, 0.3), 0px 1px 3px 1px rgba(60, 64, 67, 0.15);\n",
              "      fill: #174EA6;\n",
              "    }\n",
              "\n",
              "    .colab-df-buttons div {\n",
              "      margin-bottom: 4px;\n",
              "    }\n",
              "\n",
              "    [theme=dark] .colab-df-convert {\n",
              "      background-color: #3B4455;\n",
              "      fill: #D2E3FC;\n",
              "    }\n",
              "\n",
              "    [theme=dark] .colab-df-convert:hover {\n",
              "      background-color: #434B5C;\n",
              "      box-shadow: 0px 1px 3px 1px rgba(0, 0, 0, 0.15);\n",
              "      filter: drop-shadow(0px 1px 2px rgba(0, 0, 0, 0.3));\n",
              "      fill: #FFFFFF;\n",
              "    }\n",
              "  </style>\n",
              "\n",
              "    <script>\n",
              "      const buttonEl =\n",
              "        document.querySelector('#df-88673e43-4f3d-4a7e-8a27-a3c11eef4758 button.colab-df-convert');\n",
              "      buttonEl.style.display =\n",
              "        google.colab.kernel.accessAllowed ? 'block' : 'none';\n",
              "\n",
              "      async function convertToInteractive(key) {\n",
              "        const element = document.querySelector('#df-88673e43-4f3d-4a7e-8a27-a3c11eef4758');\n",
              "        const dataTable =\n",
              "          await google.colab.kernel.invokeFunction('convertToInteractive',\n",
              "                                                    [key], {});\n",
              "        if (!dataTable) return;\n",
              "\n",
              "        const docLinkHtml = 'Like what you see? Visit the ' +\n",
              "          '<a target=\"_blank\" href=https://colab.research.google.com/notebooks/data_table.ipynb>data table notebook</a>'\n",
              "          + ' to learn more about interactive tables.';\n",
              "        element.innerHTML = '';\n",
              "        dataTable['output_type'] = 'display_data';\n",
              "        await google.colab.output.renderOutput(dataTable, element);\n",
              "        const docLink = document.createElement('div');\n",
              "        docLink.innerHTML = docLinkHtml;\n",
              "        element.appendChild(docLink);\n",
              "      }\n",
              "    </script>\n",
              "  </div>\n",
              "\n",
              "\n",
              "<div id=\"df-348421b1-9345-4a60-a8a4-9ac54a6279bf\">\n",
              "  <button class=\"colab-df-quickchart\" onclick=\"quickchart('df-348421b1-9345-4a60-a8a4-9ac54a6279bf')\"\n",
              "            title=\"Suggest charts\"\n",
              "            style=\"display:none;\">\n",
              "\n",
              "<svg xmlns=\"http://www.w3.org/2000/svg\" height=\"24px\"viewBox=\"0 0 24 24\"\n",
              "     width=\"24px\">\n",
              "    <g>\n",
              "        <path d=\"M19 3H5c-1.1 0-2 .9-2 2v14c0 1.1.9 2 2 2h14c1.1 0 2-.9 2-2V5c0-1.1-.9-2-2-2zM9 17H7v-7h2v7zm4 0h-2V7h2v10zm4 0h-2v-4h2v4z\"/>\n",
              "    </g>\n",
              "</svg>\n",
              "  </button>\n",
              "\n",
              "<style>\n",
              "  .colab-df-quickchart {\n",
              "      --bg-color: #E8F0FE;\n",
              "      --fill-color: #1967D2;\n",
              "      --hover-bg-color: #E2EBFA;\n",
              "      --hover-fill-color: #174EA6;\n",
              "      --disabled-fill-color: #AAA;\n",
              "      --disabled-bg-color: #DDD;\n",
              "  }\n",
              "\n",
              "  [theme=dark] .colab-df-quickchart {\n",
              "      --bg-color: #3B4455;\n",
              "      --fill-color: #D2E3FC;\n",
              "      --hover-bg-color: #434B5C;\n",
              "      --hover-fill-color: #FFFFFF;\n",
              "      --disabled-bg-color: #3B4455;\n",
              "      --disabled-fill-color: #666;\n",
              "  }\n",
              "\n",
              "  .colab-df-quickchart {\n",
              "    background-color: var(--bg-color);\n",
              "    border: none;\n",
              "    border-radius: 50%;\n",
              "    cursor: pointer;\n",
              "    display: none;\n",
              "    fill: var(--fill-color);\n",
              "    height: 32px;\n",
              "    padding: 0;\n",
              "    width: 32px;\n",
              "  }\n",
              "\n",
              "  .colab-df-quickchart:hover {\n",
              "    background-color: var(--hover-bg-color);\n",
              "    box-shadow: 0 1px 2px rgba(60, 64, 67, 0.3), 0 1px 3px 1px rgba(60, 64, 67, 0.15);\n",
              "    fill: var(--button-hover-fill-color);\n",
              "  }\n",
              "\n",
              "  .colab-df-quickchart-complete:disabled,\n",
              "  .colab-df-quickchart-complete:disabled:hover {\n",
              "    background-color: var(--disabled-bg-color);\n",
              "    fill: var(--disabled-fill-color);\n",
              "    box-shadow: none;\n",
              "  }\n",
              "\n",
              "  .colab-df-spinner {\n",
              "    border: 2px solid var(--fill-color);\n",
              "    border-color: transparent;\n",
              "    border-bottom-color: var(--fill-color);\n",
              "    animation:\n",
              "      spin 1s steps(1) infinite;\n",
              "  }\n",
              "\n",
              "  @keyframes spin {\n",
              "    0% {\n",
              "      border-color: transparent;\n",
              "      border-bottom-color: var(--fill-color);\n",
              "      border-left-color: var(--fill-color);\n",
              "    }\n",
              "    20% {\n",
              "      border-color: transparent;\n",
              "      border-left-color: var(--fill-color);\n",
              "      border-top-color: var(--fill-color);\n",
              "    }\n",
              "    30% {\n",
              "      border-color: transparent;\n",
              "      border-left-color: var(--fill-color);\n",
              "      border-top-color: var(--fill-color);\n",
              "      border-right-color: var(--fill-color);\n",
              "    }\n",
              "    40% {\n",
              "      border-color: transparent;\n",
              "      border-right-color: var(--fill-color);\n",
              "      border-top-color: var(--fill-color);\n",
              "    }\n",
              "    60% {\n",
              "      border-color: transparent;\n",
              "      border-right-color: var(--fill-color);\n",
              "    }\n",
              "    80% {\n",
              "      border-color: transparent;\n",
              "      border-right-color: var(--fill-color);\n",
              "      border-bottom-color: var(--fill-color);\n",
              "    }\n",
              "    90% {\n",
              "      border-color: transparent;\n",
              "      border-bottom-color: var(--fill-color);\n",
              "    }\n",
              "  }\n",
              "</style>\n",
              "\n",
              "  <script>\n",
              "    async function quickchart(key) {\n",
              "      const quickchartButtonEl =\n",
              "        document.querySelector('#' + key + ' button');\n",
              "      quickchartButtonEl.disabled = true;  // To prevent multiple clicks.\n",
              "      quickchartButtonEl.classList.add('colab-df-spinner');\n",
              "      try {\n",
              "        const charts = await google.colab.kernel.invokeFunction(\n",
              "            'suggestCharts', [key], {});\n",
              "      } catch (error) {\n",
              "        console.error('Error during call to suggestCharts:', error);\n",
              "      }\n",
              "      quickchartButtonEl.classList.remove('colab-df-spinner');\n",
              "      quickchartButtonEl.classList.add('colab-df-quickchart-complete');\n",
              "    }\n",
              "    (() => {\n",
              "      let quickchartButtonEl =\n",
              "        document.querySelector('#df-348421b1-9345-4a60-a8a4-9ac54a6279bf button');\n",
              "      quickchartButtonEl.style.display =\n",
              "        google.colab.kernel.accessAllowed ? 'block' : 'none';\n",
              "    })();\n",
              "  </script>\n",
              "</div>\n",
              "\n",
              "    </div>\n",
              "  </div>\n"
            ],
            "application/vnd.google.colaboratory.intrinsic+json": {
              "type": "dataframe",
              "summary": "{\n  \"name\": \"df\",\n  \"rows\": 5,\n  \"fields\": [\n    {\n      \"column\": \"text\",\n      \"properties\": {\n        \"dtype\": \"string\",\n        \"num_unique_values\": 5,\n        \"samples\": [\n          \"washington reuters mexican finance minister jose antonio meade said friday mexico peso wa reacting volatility tension nafta talk mexico wanted reach consensus modernize trade pact benefit three member country meade speaking sideline international monetary fund meeting washington said mexico wa benefiting flexible liquid exchange rate peso wa hovering near five month low friday main scenario working scope negotiation agreement consensus benefit three country driving u negotiation taking part good faith meade said\",\n          \"riyadh reuters oh arab oh muslim slaughtered old man cry video posted online aleppo ruin pose uncomfortable question mainly sunni muslim arab state backing rebel fighting president bashar al assad ally iran russia saudi arabia locked regional struggle iran assad capture rebel reflects dangerous tilt middle east balance power toward tehran dismayed boost iranian ambition shi ite crescent influence afghanistan mediterranean riyadh determined reverse tehran gain sooner later countering iran buoyed nuclear deal world power remains central gulf arab policy clear might achieved especially concern multiplying beset low oil price war yemen tie egypt strained riyadh gulf ally questioning much armed help give rebel diplomat say monarchy frustrated president barack obama light touch approach war relying local fighter instead large military deployment missile strike president elect donald trump pose intriguing contrast seen decisive obama trump choice james mattis retired marine general distrustful iran defense secretary oil man rex tillerson secretary state pleased gulf arab energy exporter much remains uncertain least trump admiration russian president vladimir putin assad ally learned election wait action word said former saudi intelligence chief prince turki al faisal senior western diplomat said saudi official curious see trump translates policy campaign criticism iran praise putin saudi foreign minister adel al jubeir said spent time united state sound next administration official said gulf state asking trump associate syria ass whether would pursue u led effort gulf state turkey western nation arm rebel trump ha indicated may abandon rebel focus fighting islamic state gulf arab state want test view said one western official gulf state foreign ministry official described trump businessman make deal gulf humanitarian aid remain sunni arab society accept curb relief mostly sunni country war ha forced million syrian flee killed extent armed support appears question qatar saudi arabia enthusiastic backer rebel say would prefer continue military aid insists remain collective effort proclaiming great faith trump asaad al zoubi saudi based chief negotiator main opposition body high negotiation council said rebel backer met trump adviser explain cause receive answer trump people adviser wanted listen wanted answer said sami alfaraj security adviser gulf cooperation council six gulf arab state told reuters gulf country need regroup strategic pause look pursue objective time ahead syrian case ha closed said would push transitional administration syria something neither assad tehran accepts notion gulf arab leverage future negotiation seems far fetched given determination assad moscow tehran carve territorial gain jubeir told arab league cairo world power failed constrain assad would political solution war find effective way pressure syrian regime reach political solution killing displacement injustice syria go jubeir said drawn trump gulf monarchy feel view fully formed want nothing might cause harm interest alfaraj said expected trump deal favorably gulf state wealth help create job believed suggestion trump gulf state pay safe zone syria wa worth considering want create job better field selling weapon alfaraj said people surplus cash however arab resentment western inaction syria appears deep enduring sheikh khalifa bin salman al khalifa foreign minister bahrain ally riyadh told reuters whole thing syria wa disengagement world power deal matter change political leadership west let hope new commitment syria asked wa realistic back rebel lost major urban stronghold replied think realistic also allow bloodshed people dying go next city aleppo\",\n          \"united nation reuters united nation security council minister meet dec discus north korea nuclear missile program body also meet separately month discus human right abuse north asian country annual meeting ally china ha tried prevent past three year japan u ambassador koro bessho president member council december said several minister confirmed attend dec meeting also said meeting human right north korea could held dec china ha unsuccessfully tried stop three previous human right meeting calling procedural vote minimum nine vote needed win vote china russia united state britain france wield veto year meeting ha backing nine member united state france britain italy japan senegal sweden ukraine uruguay last year united state angered north korea blacklisting leader kim jong un human right abuse landmark n report north korean human right concluded north korean security chief possibly kim face justice overseeing state controlled system nazi style atrocity michael kirby chairman n commission inquiry drew report said time crime team cataloged reminiscent committed nazi world war two strikingly similar told reuters north korea ha repeatedly rejected accusation human right abuse blame sanction dire humanitarian situation pyongyang ha n sanction since ballistic missile nuclear program despite persistent sanction pressure hostile force government concentrate effort improving people livelihood providing better future north korean permanent mission united nation said statement nov\"\n        ],\n        \"semantic_type\": \"\",\n        \"description\": \"\"\n      }\n    },\n    {\n      \"column\": \"label\",\n      \"properties\": {\n        \"dtype\": \"number\",\n        \"std\": 0,\n        \"min\": 1,\n        \"max\": 1,\n        \"num_unique_values\": 1,\n        \"samples\": [\n          1\n        ],\n        \"semantic_type\": \"\",\n        \"description\": \"\"\n      }\n    }\n  ]\n}"
            }
          },
          "metadata": {},
          "execution_count": 5
        }
      ],
      "source": [
        "df.tail()"
      ]
    },
    {
      "cell_type": "markdown",
      "source": [
        "**Text preprocessing function was used to preprocess the used dataset\n",
        "and will be used later to preprocess new text before predicting**\n",
        "\n",
        "The following steps are applied to the text:\n",
        "\n",
        "\n",
        "\n",
        "*   removing extra white spaces and special characters\n",
        "*   convert all letters to lower case\n",
        "*   use nltk lemmatizer on each word\n",
        "*   use nltk to remove stopwords\n",
        "\n",
        "\n",
        "\n"
      ],
      "metadata": {
        "id": "EXtaaiDmRhDa"
      }
    },
    {
      "cell_type": "code",
      "execution_count": null,
      "metadata": {
        "id": "rI1zl2bwsxCh",
        "colab": {
          "base_uri": "https://localhost:8080/"
        },
        "outputId": "b4fcf96e-5918-4687-e469-ea787fe7d18f"
      },
      "outputs": [
        {
          "output_type": "stream",
          "name": "stderr",
          "text": [
            "[nltk_data] Downloading package punkt to /root/nltk_data...\n",
            "[nltk_data]   Package punkt is already up-to-date!\n",
            "[nltk_data] Downloading package wordnet to /root/nltk_data...\n",
            "[nltk_data]   Package wordnet is already up-to-date!\n",
            "[nltk_data] Downloading package stopwords to /root/nltk_data...\n",
            "[nltk_data]   Unzipping corpora/stopwords.zip.\n"
          ]
        }
      ],
      "source": [
        "import re\n",
        "import nltk\n",
        "nltk.download('punkt')\n",
        "nltk.download('wordnet')\n",
        "nltk.download('stopwords')\n",
        "from nltk.tokenize import word_tokenize\n",
        "from nltk.corpus import stopwords\n",
        "from nltk.stem import WordNetLemmatizer\n",
        "import numpy as np\n",
        "\n",
        "nltk.data.path.append(\"/content/drive/MyDrive/PR2/nltk_data/\")\n",
        "def process_text(text):\n",
        "    text = re.sub(r'\\s+', ' ', text, flags=re.I) # Remove extra white space from text\n",
        "\n",
        "    text = re.sub(r'\\W', ' ', str(text)) # Remove all the special characters from text\n",
        "\n",
        "    text = re.sub(r'\\s+[a-zA-Z]\\s+', ' ', text) # Remove all single characters from text\n",
        "\n",
        "    text = re.sub(r'[^a-zA-Z\\s]', '', text) # Remove any character that isn't alphabetical\n",
        "\n",
        "    text = text.lower()\n",
        "\n",
        "    words = word_tokenize(text)\n",
        "\n",
        "    lemmatizer = WordNetLemmatizer()\n",
        "    words = [lemmatizer.lemmatize(word) for word in words]\n",
        "\n",
        "    stop_words = set(stopwords.words(\"english\"))\n",
        "    Words = [word for word in words if word not in stop_words]\n",
        "\n",
        "    cleaned_text = ' '.join(Words)\n",
        "\n",
        "    return cleaned_text"
      ]
    },
    {
      "cell_type": "markdown",
      "source": [
        "defining a Tfidf class with the following functions\n",
        "\n",
        "\n",
        "*   init a Tfidf model with passed parameters\n",
        "*   fit_transform : fit the model on passed data and return the transformed data\n",
        "*   transform : use the fitted model to transform passed data\n",
        "*   set and get for train and test data : as tfidf is mostly will be used repedatly it's a good idea to save the results in the class for later use ,these funcitions make that possible\n"
      ],
      "metadata": {
        "id": "IveOL8k4TUQW"
      }
    },
    {
      "cell_type": "code",
      "execution_count": null,
      "metadata": {
        "id": "SRkzQtjPicEO"
      },
      "outputs": [],
      "source": [
        "from sklearn.feature_extraction.text import TfidfVectorizer\n",
        "import pickle\n",
        "\n",
        "class TfIdf:\n",
        "\n",
        "    def __init__(self,name, max_features=1000,min_df=1,max_df=1000000):\n",
        "        self.max_features = max_features\n",
        "        self.min_df = min_df\n",
        "        self.max_df = max_df\n",
        "        self.name = name\n",
        "        self. vectorizer = TfidfVectorizer(max_features=max_features,min_df=min_df,max_df=max_df)\n",
        "        self.train_vectors = None\n",
        "        self.test_vectors = None\n",
        "\n",
        "    def fit_transform(self,text_data):\n",
        "        tfidf_vectors = self.vectorizer.fit_transform(text_data)\n",
        "        pickle.dump(self.vectorizer, open(f\"/content/drive/MyDrive/PR2/models/{self.name}.pkl\", 'wb'))\n",
        "        return tfidf_vectors.toarray().tolist()\n",
        "\n",
        "    def transform(self,text_data):\n",
        "        tfidf_vectors = self.vectorizer.transform(text_data)\n",
        "        return tfidf_vectors.toarray().tolist()\n",
        "\n",
        "    def set_train_vectors(self,train_vectors):\n",
        "        self.train_vectors = train_vectors\n",
        "\n",
        "    def set_test_vectors(self,test_vectors):\n",
        "        self.test_vectors = test_vectors\n",
        "\n",
        "    def get_train_vectors(self):\n",
        "        if not self.train_vectors:\n",
        "            raise ValueError(\"Train vectors not set. Call set_train_vectors() first.\")\n",
        "        return self.train_vectors\n",
        "\n",
        "    def get_test_vectors(self):\n",
        "        if not self.test_vectors:\n",
        "            raise ValueError(\"Test vectors not set. Call set_test_vectors() first.\")\n",
        "        return self.test_vectors\n"
      ]
    },
    {
      "cell_type": "markdown",
      "source": [
        "defining a word2vec class with the following functions\n",
        "\n",
        "\n",
        "*   init a word2vec model with passed parameters\n",
        "*   make_corpus_iterable : function used to preprocess text for the word2vec transform function\n",
        "*   fit_transform : fit the model on passed data and return the transformed data\n",
        "*   transform : use the fitted model to transform passed data\n",
        "*   set and get for train and test data : as tfidf is mostly will be used repedatly it's a good idea to save the results in the class for later use ,these funcitions make that possible\n"
      ],
      "metadata": {
        "id": "FX3kqee6VpSQ"
      }
    },
    {
      "cell_type": "code",
      "execution_count": null,
      "metadata": {
        "id": "Zd0MGWsjkrTC"
      },
      "outputs": [],
      "source": [
        "import gensim\n",
        "import numpy as np\n",
        "\n",
        "class myword2vec:\n",
        "\n",
        "    def __init__(self,name,window_size=10,word_min_count=1,vector_size=200):\n",
        "      self.window_size = window_size\n",
        "      self.word_min_count = word_min_count\n",
        "      self.vector_size = vector_size\n",
        "      self.name = name\n",
        "      self.word2vecmodel = gensim.models.Word2Vec(\n",
        "          window = window_size,\n",
        "          min_count = word_min_count,\n",
        "          vector_size = vector_size)\n",
        "      self.train_vectors = None\n",
        "      self.test_vectors = None\n",
        "\n",
        "    def make_corpus_iterable(self,text_data):\n",
        "      corpus_iterable =[]\n",
        "      for text in text_data:\n",
        "        vector = gensim.utils.simple_preprocess(text)\n",
        "        corpus_iterable.append(vector)\n",
        "      return corpus_iterable\n",
        "\n",
        "    def fit_transform(self,text_data):\n",
        "        corpus_iterable = self.make_corpus_iterable(text_data)\n",
        "        #build vocabulary and train word2vec model\n",
        "        self.word2vecmodel.build_vocab(corpus_iterable)\n",
        "        self.word2vecmodel.train(corpus_iterable,\n",
        "                        total_examples=self.word2vecmodel.corpus_count,\n",
        "                        epochs = self.word2vecmodel.epochs)\n",
        "        pickle.dump(self.word2vecmodel, open(f'/content/drive/MyDrive/PR2/models/{self.name}.pkl', 'wb'))\n",
        "\n",
        "\n",
        "        #replace each doc with a vector calculated as mean of all words vectors in the doc\n",
        "        vectors=[]\n",
        "        for text in corpus_iterable:\n",
        "          vectors.append(self.word2vecmodel.wv.get_mean_vector(text))\n",
        "\n",
        "        #change the diminsions of the vectors array to be suitable for training functions\n",
        "        vectors_2d = np.stack(vectors)\n",
        "        return vectors_2d\n",
        "\n",
        "    def transform(self,text_data):\n",
        "        corpus_iterable = self.make_corpus_iterable(text_data)\n",
        "        #replace each doc with a vector calculated as mean of all words vectors in the doc\n",
        "        vectors=[]\n",
        "        for text in corpus_iterable:\n",
        "          vectors.append(self.word2vecmodel.wv.get_mean_vector(text))\n",
        "\n",
        "        #change the diminsions of the vectors array to be suitable for training functions\n",
        "        vectors_2d = np.stack(vectors)\n",
        "\n",
        "        return vectors_2d\n",
        "\n",
        "    def set_train_vectors(self,train_vectors):\n",
        "        self.train_vectors = train_vectors\n",
        "\n",
        "    def set_test_vectors(self,test_vectors):\n",
        "        self.test_vectors = test_vectors\n",
        "\n",
        "    def get_train_vectors(self):\n",
        "        return self.train_vectors\n",
        "\n",
        "    def get_test_vectors(self):\n",
        "        return self.test_vectors\n",
        "\n"
      ]
    },
    {
      "cell_type": "markdown",
      "source": [
        "**we define classes for machine learning models each with the following** functions\n",
        "\n",
        "\n",
        "\n",
        "*   init : create a model with the passed parameters\n",
        "*   fit : fit the model on the passed data\n",
        "*   predict : use the fitted function to predict the label of passed news\n",
        "*   report : return a report showing metrics of model preformance on passed data compared to passed correct labels\n",
        "\n"
      ],
      "metadata": {
        "id": "vFnuIHpaWFo-"
      }
    },
    {
      "cell_type": "code",
      "execution_count": null,
      "metadata": {
        "id": "6EUk3GsFhyVf"
      },
      "outputs": [],
      "source": [
        "from sklearn.linear_model import PassiveAggressiveClassifier\n",
        "from sklearn.metrics import classification_report\n",
        "class PA:\n",
        "  def __init__(self,name,max_iter=1000):\n",
        "    self.max_iter = max_iter\n",
        "    self.name = name\n",
        "    self.model = PassiveAggressiveClassifier(max_iter=max_iter)\n",
        "\n",
        "  def fit(self,X,y):\n",
        "    self.model.fit(X,y)\n",
        "    pickle.dump(self.model, open(f'/content/drive/MyDrive/PR2/models/{self.name}.pkl', 'wb'))\n",
        "\n",
        "  def predict(self,X):\n",
        "    return self.model.predict(X)\n",
        "\n",
        "  def report(self,X_test,y_test):\n",
        "    return classification_report(y_test,self.predict(X_test))"
      ]
    },
    {
      "cell_type": "code",
      "execution_count": null,
      "metadata": {
        "id": "5H8DHCRPob3X"
      },
      "outputs": [],
      "source": [
        "from sklearn.ensemble import RandomForestClassifier\n",
        "class RF:\n",
        "  def __init__(self,name,n_estimators=100):\n",
        "    self.n_estimators = n_estimators\n",
        "    self.name = name\n",
        "    self.model = RandomForestClassifier(n_estimators=n_estimators)\n",
        "\n",
        "  def fit(self,X,y):\n",
        "    self.model.fit(X,y)\n",
        "    pickle.dump(self.model, open(f'/content/drive/MyDrive/PR2/models/{self.name}.pkl', 'wb'))\n",
        "\n",
        "  def predict(self,X):\n",
        "    return self.model.predict(X)\n",
        "\n",
        "\n",
        "  def report(self,X_test,y_test):\n",
        "    return classification_report(y_test,self.predict(X_test))"
      ]
    },
    {
      "cell_type": "code",
      "execution_count": null,
      "metadata": {
        "id": "aafu8yCDptYL"
      },
      "outputs": [],
      "source": [
        "from sklearn.svm import SVC\n",
        "class SVM:\n",
        "  def __init__(self,name,C=1.0,kernel='rbf'):\n",
        "    self.C = C\n",
        "    self.kernel = kernel\n",
        "    self.name = name\n",
        "    self.model = SVC(C=C,kernel=kernel)\n",
        "\n",
        "  def fit(self,X,y):\n",
        "    self.model.fit(X,y)\n",
        "    pickle.dump(self.model, open(f'/content/drive/MyDrive/PR2/models/{self.name}.pkl', 'wb'))\n",
        "\n",
        "  def predict(self,X):\n",
        "       return self.model.predict(X)\n",
        "\n",
        "  def report(self,X_test,y_test):\n",
        "    return classification_report(y_test,self.predict(X_test))"
      ]
    },
    {
      "cell_type": "markdown",
      "source": [
        "**A LSTM class with following functions:**\n",
        "\n",
        "*   init : set the parameters of the LSTM layer\n",
        "*   build : to build the network and train it on the passed data, the function return the accuracy depending on test data passed\n",
        "*   predict : use the fitted network to predict for passed text\n",
        "\n"
      ],
      "metadata": {
        "id": "-ecK5NJwXd9Z"
      }
    },
    {
      "cell_type": "code",
      "execution_count": null,
      "metadata": {
        "id": "0UlYq__9LjJ8"
      },
      "outputs": [],
      "source": [
        "from keras.models import Sequential\n",
        "from keras.layers import Dense , LSTM ,Input\n",
        "import tensorflow as tf\n",
        "import numpy as np\n",
        "np.random.seed(42)\n",
        "tf.random.set_seed(42)\n",
        "\n",
        "class my_LSTM:\n",
        "  def __init__(self,name,units = 32,epochs = 20,batch_size = 256):\n",
        "    self.units = units\n",
        "    self.epochs = epochs\n",
        "    self.batch_size = batch_size\n",
        "    self.name = name\n",
        "\n",
        "  def build(self,X_train_vector,y_train,X_test_vector,y_test,Input_shape=1000):\n",
        "    model = Sequential()\n",
        "    model.add(LSTM(units = self.units , input_shape = (Input_shape,1) ))\n",
        "    model.add(Dense(1, activation='sigmoid'))\n",
        "    model.compile(loss='binary_crossentropy', optimizer='adam', metrics=['accuracy'])\n",
        "    history = model.fit(X_train_vector, y_train, epochs=self.epochs, batch_size=self.batch_size,validation_data=(X_test_vector,y_test))\n",
        "    model.save(f'/content/drive/MyDrive/PR2/models/{self.name}.h5')\n",
        "    return history.history['val_accuracy'][-1]\n",
        "\n",
        "  def predict(self,X_vector):\n",
        "    model = tf.keras.models.load_model(f'/content/drive/MyDrive/PR2/models/{self.name}.h5')\n",
        "    predict = model.predict(X_vector)\n",
        "    res = 1 if predict[0] > 0.5 else 0\n",
        "    return res\n"
      ]
    },
    {
      "cell_type": "markdown",
      "source": [
        "**The following function used set a vectorizer class (Tfidf or word2vec) using passed train and test data**"
      ],
      "metadata": {
        "id": "ya1Rsw8AYsBs"
      }
    },
    {
      "cell_type": "code",
      "execution_count": null,
      "metadata": {
        "id": "Wv9OgdYWAjZV"
      },
      "outputs": [],
      "source": [
        "def set_vectorizers(X_train,X_test,vectorizer):\n",
        "  train_v = vectorizer.fit_transform(X_train)\n",
        "  test_v = vectorizer.transform(X_test)\n",
        "  vectorizer.set_train_vectors(train_v)\n",
        "  vectorizer.set_test_vectors(test_v)\n",
        "  return"
      ]
    },
    {
      "cell_type": "markdown",
      "source": [
        "**This function do the following**\n",
        "* get the train and test data from the passed vectorizer class\n",
        "* fit the machine learning class based on the train data\n",
        "* return a report with metrics using the machine learning class and test data\n",
        "\n"
      ],
      "metadata": {
        "id": "lJZNleDJZqHE"
      }
    },
    {
      "cell_type": "code",
      "execution_count": null,
      "metadata": {
        "id": "Tf5ldOUkp95C"
      },
      "outputs": [],
      "source": [
        "def train_predict_score(X_train,y_train,X_test,y_test,model,vectorizer):\n",
        "  X_train = vectorizer.get_train_vectors()\n",
        "  X_test = vectorizer.get_test_vectors()\n",
        "  model.fit(X_train,y_train)\n",
        "  score = model.report(X_test,y_test)\n",
        "  return score"
      ]
    },
    {
      "cell_type": "markdown",
      "source": [
        "**This function use the passsed model to predict the label of passed text**\n",
        "\n",
        "**after preprocessing it and transform it using passed vectorizer**"
      ],
      "metadata": {
        "id": "xqocFHlvboiY"
      }
    },
    {
      "cell_type": "code",
      "execution_count": null,
      "metadata": {
        "id": "KcqAAdZxskeJ"
      },
      "outputs": [],
      "source": [
        "def predict(X,model,vectorizer):\n",
        "  X=process_text(X)\n",
        "  X = vectorizer.transform(X)\n",
        "  return model.predict(X)"
      ]
    },
    {
      "cell_type": "markdown",
      "source": [
        "**We split the data into train and test , using stratify to maintain balance in classes**"
      ],
      "metadata": {
        "id": "TWQOYl5ZcMip"
      }
    },
    {
      "cell_type": "code",
      "execution_count": null,
      "metadata": {
        "id": "vqkgSK8IuD9V"
      },
      "outputs": [],
      "source": [
        "from sklearn.model_selection import train_test_split\n",
        "from sklearn.utils import shuffle\n",
        "\n",
        "X = df['text']\n",
        "y = df['label']\n",
        "\n",
        "# Stratify the split based on the labels to ensure equal representation\n",
        "X, y = shuffle(X, y, random_state=42)  # Shuffle data before splitting\n",
        "X_train, X_test, y_train, y_test = train_test_split(X, y, test_size=0.2, stratify=y, random_state=42)"
      ]
    },
    {
      "cell_type": "markdown",
      "source": [
        "**Define vectorize classes and set the train and test vectors in them using pre defined function**"
      ],
      "metadata": {
        "id": "-uNQQQ1ec0Iv"
      }
    },
    {
      "cell_type": "code",
      "execution_count": null,
      "metadata": {
        "id": "Xz7AlzjbunRr"
      },
      "outputs": [],
      "source": [
        "v1_tfidf = TfIdf('Tfidf')\n",
        "v1_word2vec = myword2vec('Word2vec')"
      ]
    },
    {
      "cell_type": "code",
      "execution_count": null,
      "metadata": {
        "id": "pZ6HnBbABdBf"
      },
      "outputs": [],
      "source": [
        "set_vectorizers(X_train,X_test,v1_tfidf)\n",
        "set_vectorizers(X_train,X_test,v1_word2vec)"
      ]
    },
    {
      "cell_type": "markdown",
      "source": [
        "**We define models classes , two for each approach one using Tfidf and another using word2vec**"
      ],
      "metadata": {
        "id": "RauhBO_2dBYi"
      }
    },
    {
      "cell_type": "code",
      "execution_count": null,
      "metadata": {
        "id": "G7ieG663BZPt"
      },
      "outputs": [],
      "source": [
        "PA_tfidf = PA('PA_tfidf')\n",
        "PA_word2vec = PA('PA_word2vec')\n",
        "\n",
        "RF_tfidf = RF('RF_tfidf')\n",
        "RF_word2vec = RF('RF_word2vec')\n",
        "\n",
        "SVM_tfidf = SVM('SVM_tfidf')\n",
        "SVM_word2vec = SVM('SVM_word2vec')\n",
        "\n",
        "LSTM_tfidf = my_LSTM('LSTM_tfidf')\n",
        "LSTM_word2vec = my_LSTM('LSTM_word2vec')\n"
      ]
    },
    {
      "cell_type": "markdown",
      "source": [
        "**In the following we generate the wanted reports and print it**"
      ],
      "metadata": {
        "id": "iY2EIggXddC3"
      }
    },
    {
      "cell_type": "code",
      "source": [
        "PA_tfidf_report = train_predict_score(X_train,y_train,X_test,y_test,PA_tfidf,v1_tfidf)\n",
        "PA_word2vec_report = train_predict_score(X_train,y_train,X_test,y_test,PA_word2vec,v1_word2vec)\n",
        "\n",
        "print(\"PA_tfidf_report\" , \":\" ,PA_tfidf_report)\n",
        "print(\"PA_word2vec_report\" ,\":\",PA_word2vec_report)"
      ],
      "metadata": {
        "id": "4G20_20QwwSE",
        "colab": {
          "base_uri": "https://localhost:8080/"
        },
        "outputId": "bd7f7048-fa29-4191-a4cc-6dc9f4ea4cea"
      },
      "execution_count": null,
      "outputs": [
        {
          "output_type": "stream",
          "name": "stdout",
          "text": [
            "PA_tfidf_report :               precision    recall  f1-score   support\n",
            "\n",
            "           0       0.99      0.99      0.99      3433\n",
            "           1       0.99      0.99      0.99      3433\n",
            "\n",
            "    accuracy                           0.99      6866\n",
            "   macro avg       0.99      0.99      0.99      6866\n",
            "weighted avg       0.99      0.99      0.99      6866\n",
            "\n",
            "PA_word2vec_report :               precision    recall  f1-score   support\n",
            "\n",
            "           0       0.96      0.98      0.97      3433\n",
            "           1       0.98      0.96      0.97      3433\n",
            "\n",
            "    accuracy                           0.97      6866\n",
            "   macro avg       0.97      0.97      0.97      6866\n",
            "weighted avg       0.97      0.97      0.97      6866\n",
            "\n"
          ]
        }
      ]
    },
    {
      "cell_type": "code",
      "source": [
        "RF_tfidf_report =  train_predict_score(X_train,y_train,X_test,y_test,RF_tfidf,v1_tfidf)\n",
        "RF_word2vec_report = train_predict_score(X_train,y_train,X_test,y_test,RF_word2vec,v1_word2vec)\n",
        "\n",
        "print(\"RF_tfidf_report\" , \":\" ,RF_tfidf_report)\n",
        "print(\"RF_word2vec_report\" ,\":\",RF_word2vec_report)"
      ],
      "metadata": {
        "id": "0SEXtjZ0xEMc",
        "colab": {
          "base_uri": "https://localhost:8080/"
        },
        "outputId": "58ef408a-aa8a-4c23-dfd2-8750223a2469"
      },
      "execution_count": null,
      "outputs": [
        {
          "output_type": "stream",
          "name": "stdout",
          "text": [
            "RF_tfidf_report :               precision    recall  f1-score   support\n",
            "\n",
            "           0       1.00      1.00      1.00      3433\n",
            "           1       1.00      1.00      1.00      3433\n",
            "\n",
            "    accuracy                           1.00      6866\n",
            "   macro avg       1.00      1.00      1.00      6866\n",
            "weighted avg       1.00      1.00      1.00      6866\n",
            "\n",
            "RF_word2vec_report :               precision    recall  f1-score   support\n",
            "\n",
            "           0       0.96      0.95      0.95      3433\n",
            "           1       0.95      0.96      0.96      3433\n",
            "\n",
            "    accuracy                           0.96      6866\n",
            "   macro avg       0.96      0.96      0.96      6866\n",
            "weighted avg       0.96      0.96      0.96      6866\n",
            "\n"
          ]
        }
      ]
    },
    {
      "cell_type": "code",
      "source": [
        "SVM_tfidf_report = train_predict_score(X_train,y_train,X_test,y_test,SVM_tfidf,v1_tfidf)\n",
        "SVM_word2vec_report = train_predict_score(X_train,y_train,X_test,y_test,SVM_word2vec,v1_word2vec)\n",
        "print(\"SVM_tfidf_report\" , \":\" ,SVM_tfidf_report)\n",
        "print(\"SVM_word2vec_report\" ,\":\",SVM_word2vec_report)"
      ],
      "metadata": {
        "id": "kCK2aKe2xId1",
        "colab": {
          "base_uri": "https://localhost:8080/"
        },
        "outputId": "288f7049-861b-4491-c34d-d2f331c15147"
      },
      "execution_count": null,
      "outputs": [
        {
          "output_type": "stream",
          "name": "stdout",
          "text": [
            "SVM_tfidf_report :               precision    recall  f1-score   support\n",
            "\n",
            "           0       0.99      0.99      0.99      3433\n",
            "           1       0.99      0.99      0.99      3433\n",
            "\n",
            "    accuracy                           0.99      6866\n",
            "   macro avg       0.99      0.99      0.99      6866\n",
            "weighted avg       0.99      0.99      0.99      6866\n",
            "\n",
            "SVM_word2vec_report :               precision    recall  f1-score   support\n",
            "\n",
            "           0       0.99      0.97      0.98      3433\n",
            "           1       0.98      0.99      0.98      3433\n",
            "\n",
            "    accuracy                           0.98      6866\n",
            "   macro avg       0.98      0.98      0.98      6866\n",
            "weighted avg       0.98      0.98      0.98      6866\n",
            "\n"
          ]
        }
      ]
    },
    {
      "cell_type": "code",
      "execution_count": null,
      "metadata": {
        "id": "iNata9mJve85",
        "colab": {
          "base_uri": "https://localhost:8080/"
        },
        "outputId": "23b0d584-6d61-4084-ce30-ed79e9cc6cef"
      },
      "outputs": [
        {
          "output_type": "stream",
          "name": "stdout",
          "text": [
            "Epoch 1/20\n",
            "108/108 [==============================] - 67s 607ms/step - loss: 0.6922 - accuracy: 0.5126 - val_loss: 0.6906 - val_accuracy: 0.5172\n",
            "Epoch 2/20\n",
            "108/108 [==============================] - 69s 635ms/step - loss: 0.6928 - accuracy: 0.5063 - val_loss: 0.6919 - val_accuracy: 0.5000\n",
            "Epoch 3/20\n",
            "108/108 [==============================] - 66s 614ms/step - loss: 0.6914 - accuracy: 0.5189 - val_loss: 0.6913 - val_accuracy: 0.5415\n",
            "Epoch 4/20\n",
            "108/108 [==============================] - 66s 615ms/step - loss: 0.6907 - accuracy: 0.5626 - val_loss: 0.6905 - val_accuracy: 0.5501\n",
            "Epoch 5/20\n",
            "108/108 [==============================] - 68s 633ms/step - loss: 0.6891 - accuracy: 0.5589 - val_loss: 0.6850 - val_accuracy: 0.5821\n",
            "Epoch 6/20\n",
            "108/108 [==============================] - 68s 627ms/step - loss: 0.6802 - accuracy: 0.5709 - val_loss: 0.6738 - val_accuracy: 0.5912\n",
            "Epoch 7/20\n",
            "108/108 [==============================] - 68s 628ms/step - loss: 0.6719 - accuracy: 0.5895 - val_loss: 0.6749 - val_accuracy: 0.5810\n",
            "Epoch 8/20\n",
            "108/108 [==============================] - 61s 568ms/step - loss: 0.6695 - accuracy: 0.5910 - val_loss: 0.6804 - val_accuracy: 0.5730\n",
            "Epoch 9/20\n",
            "108/108 [==============================] - 69s 638ms/step - loss: 0.6675 - accuracy: 0.5950 - val_loss: 0.6701 - val_accuracy: 0.5942\n",
            "Epoch 10/20\n",
            "108/108 [==============================] - 66s 608ms/step - loss: 0.6629 - accuracy: 0.6032 - val_loss: 0.6677 - val_accuracy: 0.5961\n",
            "Epoch 11/20\n",
            "108/108 [==============================] - 67s 621ms/step - loss: 0.6541 - accuracy: 0.6175 - val_loss: 0.6530 - val_accuracy: 0.6209\n",
            "Epoch 12/20\n",
            "108/108 [==============================] - 60s 553ms/step - loss: 0.6460 - accuracy: 0.6278 - val_loss: 0.6468 - val_accuracy: 0.6296\n",
            "Epoch 13/20\n",
            "108/108 [==============================] - 65s 604ms/step - loss: 0.6454 - accuracy: 0.6253 - val_loss: 0.6499 - val_accuracy: 0.6183\n",
            "Epoch 14/20\n",
            "108/108 [==============================] - 69s 641ms/step - loss: 0.6421 - accuracy: 0.6357 - val_loss: 0.6482 - val_accuracy: 0.6234\n",
            "Epoch 15/20\n",
            "108/108 [==============================] - 65s 600ms/step - loss: 0.6420 - accuracy: 0.6334 - val_loss: 0.6419 - val_accuracy: 0.6338\n",
            "Epoch 16/20\n",
            "108/108 [==============================] - 69s 637ms/step - loss: 0.6364 - accuracy: 0.6405 - val_loss: 0.6452 - val_accuracy: 0.6286\n",
            "Epoch 17/20\n",
            "108/108 [==============================] - 66s 613ms/step - loss: 0.6360 - accuracy: 0.6404 - val_loss: 0.6367 - val_accuracy: 0.6384\n",
            "Epoch 18/20\n",
            "108/108 [==============================] - 63s 585ms/step - loss: 0.6348 - accuracy: 0.6435 - val_loss: 0.6354 - val_accuracy: 0.6435\n",
            "Epoch 19/20\n",
            "108/108 [==============================] - 65s 600ms/step - loss: 0.6338 - accuracy: 0.6442 - val_loss: 0.6359 - val_accuracy: 0.6408\n",
            "Epoch 20/20\n",
            "108/108 [==============================] - 69s 641ms/step - loss: 0.6326 - accuracy: 0.6450 - val_loss: 0.6402 - val_accuracy: 0.6355\n",
            "LSTM_tfidf_report : 0.6354500651359558\n"
          ]
        }
      ],
      "source": [
        "LSTM_tfidf_report = LSTM_tfidf.build(X_train_vector = np.array(v1_tfidf.get_train_vectors()),y_train = y_train.to_numpy(),X_test_vector=np.array(v1_tfidf.get_test_vectors()),y_test=y_test.to_numpy(),Input_shape=1000)\n",
        "\n",
        "print(\"LSTM_tfidf_report\" , \":\" ,LSTM_tfidf_report)\n"
      ]
    },
    {
      "cell_type": "code",
      "source": [
        "LSTM_word2vec_report = LSTM_word2vec.build(X_train_vector = v1_word2vec.get_train_vectors(),y_train = y_train,X_test_vector=v1_word2vec.get_test_vectors(),y_test=y_test,Input_shape=200)\n",
        "print(\"LSTM_word2vec_report\" ,\":\",LSTM_word2vec_report)"
      ],
      "metadata": {
        "colab": {
          "base_uri": "https://localhost:8080/"
        },
        "id": "I70OcBj-NPW6",
        "outputId": "6b7c401b-7782-465b-b131-eb87e1a601a4"
      },
      "execution_count": null,
      "outputs": [
        {
          "output_type": "stream",
          "name": "stdout",
          "text": [
            "Epoch 1/20\n",
            "108/108 [==============================] - 17s 140ms/step - loss: 0.6381 - accuracy: 0.6188 - val_loss: 0.5412 - val_accuracy: 0.7426\n",
            "Epoch 2/20\n",
            "108/108 [==============================] - 13s 117ms/step - loss: 0.5105 - accuracy: 0.7580 - val_loss: 0.5031 - val_accuracy: 0.7600\n",
            "Epoch 3/20\n",
            "108/108 [==============================] - 14s 132ms/step - loss: 0.4791 - accuracy: 0.7806 - val_loss: 0.4437 - val_accuracy: 0.8072\n",
            "Epoch 4/20\n",
            "108/108 [==============================] - 15s 137ms/step - loss: 0.4396 - accuracy: 0.7990 - val_loss: 0.4276 - val_accuracy: 0.8101\n",
            "Epoch 5/20\n",
            "108/108 [==============================] - 14s 125ms/step - loss: 0.4149 - accuracy: 0.8098 - val_loss: 0.3846 - val_accuracy: 0.8230\n",
            "Epoch 6/20\n",
            "108/108 [==============================] - 14s 129ms/step - loss: 0.3999 - accuracy: 0.8147 - val_loss: 0.4421 - val_accuracy: 0.8028\n",
            "Epoch 7/20\n",
            "108/108 [==============================] - 14s 130ms/step - loss: 0.3977 - accuracy: 0.8175 - val_loss: 0.3755 - val_accuracy: 0.8278\n",
            "Epoch 8/20\n",
            "108/108 [==============================] - 14s 129ms/step - loss: 0.4023 - accuracy: 0.8153 - val_loss: 0.4102 - val_accuracy: 0.8110\n",
            "Epoch 9/20\n",
            "108/108 [==============================] - 14s 127ms/step - loss: 0.3866 - accuracy: 0.8226 - val_loss: 0.3657 - val_accuracy: 0.8322\n",
            "Epoch 10/20\n",
            "108/108 [==============================] - 14s 134ms/step - loss: 0.3766 - accuracy: 0.8268 - val_loss: 0.3851 - val_accuracy: 0.8261\n",
            "Epoch 11/20\n",
            "108/108 [==============================] - 15s 136ms/step - loss: 0.3743 - accuracy: 0.8279 - val_loss: 0.3963 - val_accuracy: 0.8283\n",
            "Epoch 12/20\n",
            "108/108 [==============================] - 15s 136ms/step - loss: 0.3683 - accuracy: 0.8338 - val_loss: 0.3552 - val_accuracy: 0.8449\n",
            "Epoch 13/20\n",
            "108/108 [==============================] - 14s 134ms/step - loss: 0.3594 - accuracy: 0.8388 - val_loss: 0.3416 - val_accuracy: 0.8479\n",
            "Epoch 14/20\n",
            "108/108 [==============================] - 14s 132ms/step - loss: 0.3557 - accuracy: 0.8440 - val_loss: 0.3383 - val_accuracy: 0.8495\n",
            "Epoch 15/20\n",
            "108/108 [==============================] - 13s 120ms/step - loss: 0.3521 - accuracy: 0.8461 - val_loss: 0.3591 - val_accuracy: 0.8383\n",
            "Epoch 16/20\n",
            "108/108 [==============================] - 14s 131ms/step - loss: 0.3531 - accuracy: 0.8454 - val_loss: 0.3812 - val_accuracy: 0.8389\n",
            "Epoch 17/20\n",
            "108/108 [==============================] - 14s 131ms/step - loss: 0.3466 - accuracy: 0.8459 - val_loss: 0.3531 - val_accuracy: 0.8522\n",
            "Epoch 18/20\n",
            "108/108 [==============================] - 13s 124ms/step - loss: 0.3398 - accuracy: 0.8497 - val_loss: 0.3259 - val_accuracy: 0.8589\n",
            "Epoch 19/20\n",
            "108/108 [==============================] - 12s 115ms/step - loss: 0.3375 - accuracy: 0.8522 - val_loss: 0.3340 - val_accuracy: 0.8538\n",
            "Epoch 20/20\n",
            "108/108 [==============================] - 13s 124ms/step - loss: 0.3372 - accuracy: 0.8515 - val_loss: 0.3370 - val_accuracy: 0.8487\n",
            "LSTM_word2vec_report : 0.8486746549606323\n"
          ]
        }
      ]
    },
    {
      "cell_type": "markdown",
      "source": [
        "**In the following lines we test traind models on a dataset generated using Chat-GPT**\n",
        "\n",
        "**Objective :** while fake news in social media, news sites , or nwespapper are written by humans with intintion to lie they also try to  avoid being so determint so a certain vague languages might be common.\n",
        "\n",
        "\n",
        " But chat-gpt nad other models can in fact generate fake news which have the same structure of language as true news which in theory will make the task more difficult to detect fake news espically in our case were models were not trained on similar data."
      ],
      "metadata": {
        "id": "uEgDbZdfdnKV"
      }
    },
    {
      "cell_type": "code",
      "source": [
        "gpt = pd.read_csv('/content/drive/MyDrive/PR2/Chat_GPT_news.csv')"
      ],
      "metadata": {
        "id": "6LVocZVwq7E2"
      },
      "execution_count": null,
      "outputs": []
    },
    {
      "cell_type": "code",
      "source": [
        "gpt['preprocessed_text'] = gpt['text'].apply(process_text)"
      ],
      "metadata": {
        "id": "kRxrjfilgUAj"
      },
      "execution_count": null,
      "outputs": []
    },
    {
      "cell_type": "code",
      "source": [
        "gpt_tfidf_test_vectors = v1_tfidf.transform(gpt['preprocessed_text'])\n",
        "gpt_word2vec_test_vectors = v1_word2vec.transform(gpt['preprocessed_text'])"
      ],
      "metadata": {
        "id": "xbeqcpXNrHfH"
      },
      "execution_count": null,
      "outputs": []
    },
    {
      "cell_type": "code",
      "source": [
        "gpt_PA_tfidf_report = PA_tfidf.report(gpt_tfidf_test_vectors,gpt['label'])\n",
        "gpt_PA_word2vec_report = PA_word2vec.report(gpt_word2vec_test_vectors,gpt['label'])\n",
        "\n",
        "print(\"gpt_PA_tfidf_report\" , \":\" ,gpt_PA_tfidf_report)\n",
        "print(\"gpt_PA_word2vec_report\" ,\":\",gpt_PA_word2vec_report)"
      ],
      "metadata": {
        "colab": {
          "base_uri": "https://localhost:8080/"
        },
        "id": "UtDDOLACrvqC",
        "outputId": "46b11151-60bd-4107-c2bb-f0e1d0286bcd"
      },
      "execution_count": null,
      "outputs": [
        {
          "output_type": "stream",
          "name": "stdout",
          "text": [
            "gpt_PA_tfidf_report :               precision    recall  f1-score   support\n",
            "\n",
            "         0.0       0.52      0.95      0.67       150\n",
            "         1.0       0.71      0.11      0.20       150\n",
            "\n",
            "    accuracy                           0.53       300\n",
            "   macro avg       0.61      0.53      0.43       300\n",
            "weighted avg       0.61      0.53      0.43       300\n",
            "\n",
            "gpt_PA_word2vec_report :               precision    recall  f1-score   support\n",
            "\n",
            "         0.0       0.59      0.68      0.63       150\n",
            "         1.0       0.62      0.53      0.57       150\n",
            "\n",
            "    accuracy                           0.60       300\n",
            "   macro avg       0.61      0.60      0.60       300\n",
            "weighted avg       0.61      0.60      0.60       300\n",
            "\n"
          ]
        }
      ]
    },
    {
      "cell_type": "code",
      "source": [
        "gpt_RF_tfidf_report = RF_tfidf.report(gpt_tfidf_test_vectors,gpt['label'])\n",
        "gpt_RF_word2vec_report = RF_word2vec.report(gpt_word2vec_test_vectors,gpt['label'])\n",
        "\n",
        "print(\"gpt_RF_tfidf_report\" , \":\" ,gpt_RF_tfidf_report)\n",
        "print(\"gpt_RF_word2vec_report\" ,\":\",gpt_RF_word2vec_report)"
      ],
      "metadata": {
        "colab": {
          "base_uri": "https://localhost:8080/"
        },
        "id": "JuE6fwsDs_05",
        "outputId": "9ebafaef-475c-4893-f7e9-4c2ac2fb48f0"
      },
      "execution_count": null,
      "outputs": [
        {
          "output_type": "stream",
          "name": "stdout",
          "text": [
            "gpt_RF_tfidf_report :               precision    recall  f1-score   support\n",
            "\n",
            "         0.0       0.50      1.00      0.67       150\n",
            "         1.0       0.00      0.00      0.00       150\n",
            "\n",
            "    accuracy                           0.50       300\n",
            "   macro avg       0.25      0.50      0.33       300\n",
            "weighted avg       0.25      0.50      0.33       300\n",
            "\n",
            "gpt_RF_word2vec_report :               precision    recall  f1-score   support\n",
            "\n",
            "         0.0       0.67      0.71      0.69       150\n",
            "         1.0       0.69      0.65      0.67       150\n",
            "\n",
            "    accuracy                           0.68       300\n",
            "   macro avg       0.68      0.68      0.68       300\n",
            "weighted avg       0.68      0.68      0.68       300\n",
            "\n"
          ]
        },
        {
          "output_type": "stream",
          "name": "stderr",
          "text": [
            "/usr/local/lib/python3.10/dist-packages/sklearn/metrics/_classification.py:1471: UndefinedMetricWarning: Precision and F-score are ill-defined and being set to 0.0 in labels with no predicted samples. Use `zero_division` parameter to control this behavior.\n",
            "  _warn_prf(average, modifier, msg_start, len(result))\n",
            "/usr/local/lib/python3.10/dist-packages/sklearn/metrics/_classification.py:1471: UndefinedMetricWarning: Precision and F-score are ill-defined and being set to 0.0 in labels with no predicted samples. Use `zero_division` parameter to control this behavior.\n",
            "  _warn_prf(average, modifier, msg_start, len(result))\n",
            "/usr/local/lib/python3.10/dist-packages/sklearn/metrics/_classification.py:1471: UndefinedMetricWarning: Precision and F-score are ill-defined and being set to 0.0 in labels with no predicted samples. Use `zero_division` parameter to control this behavior.\n",
            "  _warn_prf(average, modifier, msg_start, len(result))\n"
          ]
        }
      ]
    },
    {
      "cell_type": "code",
      "source": [
        "gpt_SVM_tfidf_report = SVM_tfidf.report(gpt_tfidf_test_vectors,gpt['label'])\n",
        "gpt_SVM_word2vec_report = SVM_word2vec.report(gpt_word2vec_test_vectors,gpt['label'])\n",
        "\n",
        "print(\"gpt_SVM_tfidf_report\" , \":\" ,gpt_SVM_tfidf_report)\n",
        "print(\"gpt_SVM_word2vec_report\" ,\":\",gpt_SVM_word2vec_report)"
      ],
      "metadata": {
        "colab": {
          "base_uri": "https://localhost:8080/"
        },
        "id": "s9nB1GCstBIx",
        "outputId": "52702d2d-df30-43e0-b796-411a791f4716"
      },
      "execution_count": null,
      "outputs": [
        {
          "output_type": "stream",
          "name": "stdout",
          "text": [
            "gpt_SVM_tfidf_report :               precision    recall  f1-score   support\n",
            "\n",
            "         0.0       0.51      0.98      0.67       150\n",
            "         1.0       0.77      0.07      0.12       150\n",
            "\n",
            "    accuracy                           0.52       300\n",
            "   macro avg       0.64      0.52      0.40       300\n",
            "weighted avg       0.64      0.52      0.40       300\n",
            "\n",
            "gpt_SVM_word2vec_report :               precision    recall  f1-score   support\n",
            "\n",
            "         0.0       0.60      0.77      0.68       150\n",
            "         1.0       0.68      0.49      0.57       150\n",
            "\n",
            "    accuracy                           0.63       300\n",
            "   macro avg       0.64      0.63      0.62       300\n",
            "weighted avg       0.64      0.63      0.62       300\n",
            "\n"
          ]
        }
      ]
    },
    {
      "cell_type": "code",
      "source": [
        "model = tf.keras.models.load_model(f'/content/drive/MyDrive/PR2/models/LSTM_tfidf.h5')\n",
        "predict = model.predict(np.array(gpt_tfidf_test_vectors))\n",
        "correct = 0\n",
        "for pred,label in zip(predict,gpt['label']):\n",
        "  if pred[0] > 0.5:\n",
        "    if label == 1:\n",
        "      correct += 1\n",
        "  else:\n",
        "    if label == 0:\n",
        "      correct += 1\n",
        "accuracy = correct/len(predict)\n",
        "print(accuracy)"
      ],
      "metadata": {
        "colab": {
          "base_uri": "https://localhost:8080/"
        },
        "id": "7xwCgACANxFB",
        "outputId": "f61194ee-6ec7-4c3b-8bc2-6527bf48b180"
      },
      "execution_count": null,
      "outputs": [
        {
          "output_type": "stream",
          "name": "stdout",
          "text": [
            "10/10 [==============================] - 1s 66ms/step\n",
            "0.5\n"
          ]
        }
      ]
    },
    {
      "cell_type": "code",
      "source": [
        "model = tf.keras.models.load_model(f'/content/drive/MyDrive/PR2/models/LSTM_word2vec.h5')\n",
        "predict = model.predict(np.array(gpt_word2vec_test_vectors))\n",
        "correct = 0\n",
        "for pred,label in zip(predict,gpt['label']):\n",
        "  if pred[0] > 0.5:\n",
        "    if label == 1:\n",
        "      correct += 1\n",
        "  else:\n",
        "    if label == 0:\n",
        "      correct += 1\n",
        "accuracy = correct/len(predict)\n",
        "print(accuracy)"
      ],
      "metadata": {
        "colab": {
          "base_uri": "https://localhost:8080/"
        },
        "id": "A6S9yqCRMqj0",
        "outputId": "c493faa9-bb5d-4c9a-ad04-2dfd9bc5975a"
      },
      "execution_count": null,
      "outputs": [
        {
          "output_type": "stream",
          "name": "stdout",
          "text": [
            "10/10 [==============================] - 2s 17ms/step\n",
            "0.5733333333333334\n"
          ]
        }
      ]
    }
  ],
  "metadata": {
    "colab": {
      "provenance": [],
      "gpuType": "V28",
      "include_colab_link": true
    },
    "kernelspec": {
      "display_name": "Python 3",
      "name": "python3"
    },
    "language_info": {
      "name": "python"
    },
    "accelerator": "TPU"
  },
  "nbformat": 4,
  "nbformat_minor": 0
}